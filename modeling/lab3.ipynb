{
 "cells": [
  {
   "cell_type": "code",
   "execution_count": 42,
   "metadata": {},
   "outputs": [],
   "source": [
    "import math\n",
    "import numpy as np\n",
    "import random\n",
    "import matplotlib.pyplot as plt\n",
    "import seaborn as sns\n",
    "from scipy.stats import kstwobign, chi2, gamma\n",
    "eps = 0.05\n",
    "random.seed(23)"
   ]
  },
  {
   "cell_type": "code",
   "execution_count": 43,
   "metadata": {},
   "outputs": [],
   "source": [
    "class LCG: \n",
    "    def __init__(self, a, c, m, start, n):\n",
    "        self.a = a\n",
    "        self.c = c\n",
    "        self.m = m\n",
    "        self.start = start\n",
    "        self.generated = []\n",
    "        self.count_n_items(n)\n",
    "        self.U = [i / self.m for i in self.generated]\n",
    "\n",
    "    \n",
    "    def __str__(self) -> str:\n",
    "        return \"Linear Congruent Generator:\\n x_n+1 = ({} * x_n + {}) mod {};  x0 = {}.\".format(self.a, self.c, self.m, self.start)\n",
    "\n",
    "    def count_next(self):\n",
    "        if len(self.generated) == 0:\n",
    "            return (self.a * self.start + self.c) % self.m\n",
    "        elif len(self.generated) > 0:\n",
    "            return (self.a * self.generated[len(self.generated) - 1] + self.c) % self.m \n",
    "\n",
    "    def count_n_items(self, n):\n",
    "        for i in range(n+300):\n",
    "            self.generated.append(self.count_next())\n",
    "    \n",
    "    def get_mean(self, n):\n",
    "        return np.mean(self.U[:n])\n",
    "    \n",
    "    def get_var(self, n):\n",
    "        return np.var(self.U[:n])"
   ]
  },
  {
   "cell_type": "code",
   "execution_count": 44,
   "metadata": {},
   "outputs": [],
   "source": [
    "class MMG:\n",
    "    def __init__(self, generator1, generator2, k, n):\n",
    "        self.X = generator1\n",
    "        self.Y = generator2\n",
    "        self.k = k\n",
    "        self.n = n\n",
    "        self.V = [self.X.generated[i] for i in range(k)]\n",
    "        self.U = [0 for _ in range(n)]\n",
    "        self.generate()\n",
    "    \n",
    "    def generate(self):\n",
    "        for i in range(self.n):\n",
    "            s = math.floor(self.Y.generated[i] * self.k / self.Y.m)\n",
    "            self.U[i] = self.V[s] / self.X.m \n",
    "            self.V[s] = self.X.generated[i+self.k]\n",
    "    \n",
    "    def get_mean(self, n):\n",
    "        return sum(self.U[:n]) / n\n",
    "    \n",
    "    def get_var(self, n):\n",
    "        m = 1 / n * sum(self.U[:n])\n",
    "        return sum([(self.U[i] - m)**2 for i in range(n)]) / (n - 1)\n",
    "            "
   ]
  },
  {
   "cell_type": "code",
   "execution_count": 45,
   "metadata": {},
   "outputs": [],
   "source": [
    "n2 = 10**7\n",
    "n =  10**5\n",
    "generator_12 = LCG(69069, 12345, 2**32, 7, n2)\n",
    "generator_13 = LCG(69070,1,2**32-5, 2**8, n2)\n",
    "# генератор Маклорена-Марсальи\n",
    "mmg = MMG(generator_12, generator_13, 100, n2)"
   ]
  },
  {
   "cell_type": "markdown",
   "metadata": {},
   "source": [
    "Вывод информации теста"
   ]
  },
  {
   "cell_type": "code",
   "execution_count": 46,
   "metadata": {},
   "outputs": [],
   "source": [
    "def print_result(test_name, alpha, value, critical_value):\n",
    "    print( \"{}\\n\\tУровень доверия: {}\".format(test_name, 1-alpha))\n",
    "    if value < critical_value:\n",
    "        print(\"\\tH0 принята: {} < {}.\".format(value, critical_value))\n",
    "    else:\n",
    "        print(\"\\tH0 не принята: {} >= {}.\".format(value, critical_value))"
   ]
  },
  {
   "cell_type": "markdown",
   "metadata": {},
   "source": [
    "Критерий Колмогорова"
   ]
  },
  {
   "cell_type": "code",
   "execution_count": 47,
   "metadata": {},
   "outputs": [],
   "source": [
    "def ks_test(data, cdf, alpha=0.05, **kwargs):\n",
    "    n = len(data)\n",
    "    _cdf = np.arange(n) / n\n",
    "    sorted_data = sorted(data)\n",
    "    expected_cdf = np.array([cdf(x, **kwargs) for x in sorted_data])\n",
    "    Dn = np.max(np.abs(expected_cdf - _cdf))\n",
    "    ks_value = np.sqrt(n) * Dn\n",
    "    critical_value = kstwobign.ppf(1-alpha)\n",
    "    print_result(\"\", alpha, ks_value, critical_value) "
   ]
  },
  {
   "cell_type": "markdown",
   "metadata": {},
   "source": [
    "Тест Хи-квадрат"
   ]
  },
  {
   "cell_type": "code",
   "execution_count": 48,
   "metadata": {},
   "outputs": [],
   "source": [
    "def chisquare(freq_obs, freq_exp):\n",
    "    chisquare = 0.0\n",
    "    for i in range(len(freq_obs)):\n",
    "        chisquare += ((freq_obs[i] - freq_exp[i])**2 / freq_exp[i])\n",
    "    return chisquare\n",
    "\n",
    "def expected_frequencies(first, last, cdf, **kwargs):\n",
    "    freq_exp = []\n",
    "    sum_prob = 0\n",
    "    step = (last - first) / 1000\n",
    "    freq = [first + i * step for i in range(1000)]\n",
    "    for i in range(1, len(freq)):\n",
    "        prob = cdf(freq[i], **kwargs) - cdf(freq[i - 1], **kwargs)\n",
    "        sum_prob += prob\n",
    "        freq_exp.append(prob * n)\n",
    "    freq_exp.append(n * (1 - sum_prob))\n",
    "    return freq_exp\n",
    "\n",
    "def observed_frequencies(sample, first, last):\n",
    "    f_obs = []\n",
    "    for i in range(1000):\n",
    "        f_obs.append(0)\n",
    "    intervals = list(np.arange(first, last, (last - first) / 1000))\n",
    "    intervals.append(last)\n",
    "    sample_sorted = sorted(sample)\n",
    "    i = 0\n",
    "    j = 1\n",
    "    while j <= 1000 and i < len(sample_sorted):\n",
    "        if intervals[j-1] <= sample_sorted[i] < intervals[j]:\n",
    "            f_obs[j - 1] += 1\n",
    "            i += 1\n",
    "        else:\n",
    "            j += 1\n",
    "    f_obs[len(f_obs) - 1] += n - i\n",
    "    return f_obs\n",
    "\n",
    "def perform_chi2(distribution_name, mmg, generator, cdf, **kwargs):\n",
    "    first = min(generator)\n",
    "    last = max(generator)\n",
    "    freq_exp = expected_frequencies(first, last, cdf, **kwargs)\n",
    "    freq_obs = observed_frequencies(generator, first, last)\n",
    "    chi_2 = chisquare(freq_obs, freq_exp)\n",
    "    first = min(mmg)\n",
    "    last = max(mmg)\n",
    "    freq_exp_my = expected_frequencies(first, last, cdf, **kwargs)\n",
    "    freq_obs_my = observed_frequencies(mmg, first, last)\n",
    "    chi_2_my = chisquare(freq_obs_my, freq_exp_my)\n",
    "    delta = chi2(999).ppf(1 - eps)\n",
    "    print(distribution_name)\n",
    "    print_result(\"Хи-квадрат для встроенного генератора\", eps, chi_2, delta)\n",
    "    print_result(\"Хи-квадрат для реализованного генератора\", eps, chi_2_my, delta)"
   ]
  },
  {
   "cell_type": "markdown",
   "metadata": {},
   "source": [
    "Встроенный рандомный генератор"
   ]
  },
  {
   "cell_type": "code",
   "execution_count": 49,
   "metadata": {},
   "outputs": [],
   "source": [
    "from random import SystemRandom\n",
    "cryptogen = SystemRandom()\n",
    "generator = [cryptogen.random() for _ in range(n2)]"
   ]
  },
  {
   "cell_type": "markdown",
   "metadata": {},
   "source": [
    "Статистики"
   ]
  },
  {
   "cell_type": "code",
   "execution_count": 50,
   "metadata": {},
   "outputs": [],
   "source": [
    "def mmean(dataset):\n",
    "    return sum(dataset) / len(dataset)\n",
    "\n",
    "def vvar(dataset):\n",
    "    m = mmean(dataset)\n",
    "    return sum([(dataset[i] - m)**2 for i in range(n)]) / (n - 1) "
   ]
  },
  {
   "cell_type": "markdown",
   "metadata": {},
   "source": [
    "Равномерное распределение"
   ]
  },
  {
   "cell_type": "code",
   "execution_count": 83,
   "metadata": {},
   "outputs": [
    {
     "name": "stdout",
     "output_type": "stream",
     "text": [
      "100000\n"
     ]
    },
    {
     "data": {
      "image/png": "[encoded data removed]",
      "text/plain": [
       "<Figure size 640x480 with 2 Axes>"
      ]
     },
     "metadata": {},
     "output_type": "display_data"
    }
   ],
   "source": [
    "def uniform_(data, size, a, b):\n",
    "    res = []\n",
    "    for i in range(size):\n",
    "        res.append((b - a) * data[i] + a)\n",
    "    return res\n",
    "\n",
    "a_uniform = 2\n",
    "b_uniform = 10\n",
    "\n",
    "uniform_mmg = uniform_(mmg.U, n, a_uniform, b_uniform)\n",
    "uniform_inb = uniform_(generator, n, a_uniform, b_uniform)\n",
    "\n",
    "\n",
    "fig, axs = plt.subplots(2,1)\n",
    "axs[0].hist(uniform_mmg, bins = 1000)\n",
    "print(len(uniform_mmg))\n",
    "axs[0].set_title(\"Uniform mmg\")\n",
    "axs[0].grid(True)\n",
    "axs[1].hist(uniform_inb, bins = 1000)\n",
    "axs[1].set_title(\"Uniform generator\")\n",
    "axs[1].grid(True)\n",
    "fig.tight_layout()\n",
    "plt.show()"
   ]
  },
  {
   "cell_type": "markdown",
   "metadata": {},
   "source": [
    "Статистика для равномерного распределения"
   ]
  },
  {
   "cell_type": "code",
   "execution_count": 84,
   "metadata": {},
   "outputs": [
    {
     "name": "stdout",
     "output_type": "stream",
     "text": [
      "Статистика для нормального распределения (Маклорен-Марсалья)\n",
      "Теоретическое мат. ожидание: 6.0\n",
      "Несмещенная оценка матожидания: 5.999250002073627\n",
      "Теоретическая дисперсия: 5.333333333333333\n",
      "Несмещенная оценка дисперсии: 5.3299277862220125\n",
      "\n",
      "Статистика для нормального распределения (встроенный генератор)\n",
      "Теоретическое мат. ожидание: 6.0\n",
      "Несмещенная оценка матожидания: 5.992259051891237\n",
      "Теоретическая дисперсия: 5.333333333333333\n",
      "Несмещенная оценка дисперсии: 5.350538826732926\n"
     ]
    }
   ],
   "source": [
    "def uniform_cdf(x, a, b):\n",
    "    if x < a:\n",
    "        return 0\n",
    "    elif x > b:\n",
    "        return 1\n",
    "    else:\n",
    "        return (x - a) / (b - a)\n",
    "\n",
    "print('Статистика для нормального распределения (Маклорен-Марсалья)')\n",
    "print(\"Теоретическое мат. ожидание:\", (a_uniform + b_uniform) / 2)\n",
    "print(\"Несмещенная оценка матожидания:\", mmean(uniform_mmg))\n",
    "print(\"Теоретическая дисперсия:\", (b_uniform - a_uniform) ** 2 / 12)\n",
    "print(\"Несмещенная оценка дисперсии:\", vvar(uniform_mmg))\n",
    "\n",
    "print('\\nСтатистика для нормального распределения (встроенный генератор)')\n",
    "print(\"Теоретическое мат. ожидание:\", (a_uniform + b_uniform) / 2)\n",
    "print(\"Несмещенная оценка матожидания:\", mmean(uniform_inb))\n",
    "print(\"Теоретическая дисперсия:\", (b_uniform - a_uniform) ** 2 / 12)\n",
    "print(\"Несмещенная оценка дисперсии:\", vvar(uniform_inb))"
   ]
  },
  {
   "cell_type": "markdown",
   "metadata": {},
   "source": [
    "Критерий Колмогорова для нормального распределения"
   ]
  },
  {
   "cell_type": "code",
   "execution_count": 85,
   "metadata": {},
   "outputs": [
    {
     "name": "stdout",
     "output_type": "stream",
     "text": [
      "Критерий Колмогорова для MMG\n",
      "\n",
      "\tУровень доверия: 0.95\n",
      "\tH0 принята: 0.43484056980539315 < 1.3580986393225505.\n",
      "Критерий Колмогорова для встроенного генератора\n",
      "\n",
      "\tУровень доверия: 0.95\n",
      "\tH0 принята: 0.8805607114259412 < 1.3580986393225505.\n"
     ]
    }
   ],
   "source": [
    "print('Критерий Колмогорова для MMG')\n",
    "ks_test(uniform_mmg, uniform_cdf, a=a_uniform, b=b_uniform)\n",
    "print('Критерий Колмогорова для встроенного генератора')\n",
    "ks_test(uniform_inb, uniform_cdf, a=a_uniform, b=b_uniform)"
   ]
  },
  {
   "cell_type": "markdown",
   "metadata": {},
   "source": [
    "Тест Хи-квадрат для равномерного распрделения"
   ]
  },
  {
   "cell_type": "code",
   "execution_count": 86,
   "metadata": {},
   "outputs": [
    {
     "name": "stdout",
     "output_type": "stream",
     "text": [
      "Нормальное распределение\n",
      "Хи-квадрат для встроенного генератора\n",
      "\tУровень доверия: 0.95\n",
      "\tH0 принята: 948.4008867648239 < 1073.6426506574246.\n",
      "Хи-квадрат для реализованного генератора\n",
      "\tУровень доверия: 0.95\n",
      "\tH0 принята: 1007.3454429277151 < 1073.6426506574246.\n"
     ]
    }
   ],
   "source": [
    "perform_chi2(\"Нормальное распределение\", uniform_mmg, uniform_inb, uniform_cdf, a = a_uniform, b = b_uniform)"
   ]
  },
  {
   "cell_type": "markdown",
   "metadata": {},
   "source": [
    "Одномерное нормальное распределение"
   ]
  },
  {
   "cell_type": "code",
   "execution_count": 87,
   "metadata": {},
   "outputs": [
    {
     "data": {
      "image/png": "[encoded data removed]",
      "text/plain": [
       "<Figure size 640x480 with 2 Axes>"
      ]
     },
     "metadata": {},
     "output_type": "display_data"
    }
   ],
   "source": [
    "from scipy import special\n",
    "def onedim_normal(a, n, m, s, N = 24):\n",
    "    data = []\n",
    "    for i in range(0, N * n, N):\n",
    "        data.append(m + (12 / N) ** (0.5) * (sum(a[i:(i + N)]) - N / 2) * s)\n",
    "    return data\n",
    "\n",
    "m_onedim = 0\n",
    "s_onedim = 1.5\n",
    "onedim_mmg = onedim_normal(mmg.U, n, m_onedim, s_onedim)\n",
    "onedim_generator = onedim_normal(generator, n, m_onedim, s_onedim)\n",
    "minn = min(onedim_mmg + onedim_generator)\n",
    "maxx = max(onedim_mmg + onedim_generator)\n",
    "bins = list(np.arange(-10, 10, 0.02))\n",
    "fig, axs = plt.subplots(2,1)\n",
    "axs[0].hist(onedim_mmg, bins = bins)\n",
    "axs[0].set_title(\"One-dimensional normal mmg\")\n",
    "axs[0].grid(True)\n",
    "axs[1].hist(onedim_generator, bins = bins)\n",
    "axs[1].set_title(\"One-dimensional normal generator\")\n",
    "axs[1].grid(True)\n",
    "fig.tight_layout()\n",
    "plt.show()"
   ]
  },
  {
   "cell_type": "code",
   "execution_count": 88,
   "metadata": {},
   "outputs": [
    {
     "name": "stdout",
     "output_type": "stream",
     "text": [
      "Статистика для одномерного нормального распределения (Маклорен-Марсалья)\n",
      "Теоретическое мат. ожидание: 0\n",
      "Jценка матожидания: -1.3696592521227814e-05\n",
      "Теоретическая дисперсия: 2.25\n",
      "Несмещенная оценка дисперсии: 2.2532322167460466\n",
      "\n",
      "Статистика для одномерного нормального распределения (встроенный генератор)\n",
      "Теоретическое мат. ожидание: 0\n",
      "Несмещенная оценка матожидания: 0.0012213590761642641\n",
      "Теоретическая дисперсия: 2.25\n",
      "Несмещенная оценка дисперсии: 2.2652435732107294\n"
     ]
    }
   ],
   "source": [
    "def normal_cdf(x, m, s):\n",
    "    return 0.5 * (1 + math.erf((x - m) / (s * 2 ** 0.5)))\n",
    "\n",
    "print('Статистика для одномерного нормального распределения (Маклорен-Марсалья)')\n",
    "print(\"Теоретическое мат. ожидание:\", m_onedim)\n",
    "print(\"Jценка матожидания:\", mmean(onedim_mmg))\n",
    "print(\"Теоретическая дисперсия:\", s_onedim**2)\n",
    "print(\"Несмещенная оценка дисперсии:\", vvar(onedim_mmg))\n",
    "\n",
    "print('\\nСтатистика для одномерного нормального распределения (встроенный генератор)')\n",
    "print(\"Теоретическое мат. ожидание:\", m_onedim)\n",
    "print(\"Несмещенная оценка матожидания:\", mmean(onedim_generator))\n",
    "print(\"Теоретическая дисперсия:\", s_onedim**2)\n",
    "print(\"Несмещенная оценка дисперсии:\", vvar(onedim_generator))"
   ]
  },
  {
   "cell_type": "markdown",
   "metadata": {},
   "source": [
    "Критерий Колмогорова для одномерного нормального распределения"
   ]
  },
  {
   "cell_type": "code",
   "execution_count": 89,
   "metadata": {},
   "outputs": [
    {
     "name": "stdout",
     "output_type": "stream",
     "text": [
      "Критерий Колмогорова для MMG\n",
      "\n",
      "\tУровень доверия: 0.95\n",
      "\tH0 принята: 0.8808077911796919 < 1.3580986393225505.\n",
      "Критерий Колмогорова для встроенного генератора\n",
      "\n",
      "\tУровень доверия: 0.95\n",
      "\tH0 принята: 1.2377932593736085 < 1.3580986393225505.\n"
     ]
    }
   ],
   "source": [
    "print('Критерий Колмогорова для MMG')\n",
    "ks_test(onedim_mmg, normal_cdf, m=m_onedim, s=s_onedim)\n",
    "print('Критерий Колмогорова для встроенного генератора')\n",
    "ks_test(onedim_generator, normal_cdf, m=m_onedim, s=s_onedim)"
   ]
  },
  {
   "cell_type": "markdown",
   "metadata": {},
   "source": [
    "Хи-квадрат для одномерного нормального распределения"
   ]
  },
  {
   "cell_type": "code",
   "execution_count": 90,
   "metadata": {},
   "outputs": [
    {
     "name": "stdout",
     "output_type": "stream",
     "text": [
      "Одномерное нормальное распределение\n",
      "Хи-квадрат для встроенного генератора\n",
      "\tУровень доверия: 0.95\n",
      "\tH0 принята: 956.0523986615343 < 1073.6426506574246.\n",
      "Хи-квадрат для реализованного генератора\n",
      "\tУровень доверия: 0.95\n",
      "\tH0 принята: 966.1438647746676 < 1073.6426506574246.\n"
     ]
    }
   ],
   "source": [
    "perform_chi2(\"Одномерное нормальное распределение\", onedim_mmg, onedim_generator, normal_cdf, m = m_onedim, s = s_onedim)"
   ]
  },
  {
   "cell_type": "markdown",
   "metadata": {},
   "source": [
    "Логнормальное распределение"
   ]
  },
  {
   "cell_type": "code",
   "execution_count": 91,
   "metadata": {},
   "outputs": [
    {
     "data": {
      "image/png": "[encoded data removed]",
      "text/plain": [
       "<Figure size 640x480 with 2 Axes>"
      ]
     },
     "metadata": {},
     "output_type": "display_data"
    }
   ],
   "source": [
    "def lognormal(a, n, m, s):\n",
    "    b = []\n",
    "    for i in range(0, n * 12, 12):\n",
    "        b.append(m + (sum(a[i:(i+12)]) - 6) * s)\n",
    "    data = [np.exp(x) for x in b]\n",
    "    return data\n",
    "\n",
    "m_log = 0\n",
    "s_log = 1\n",
    "lognorm_mmg = lognormal(mmg.U, n, m_log, s_log)\n",
    "lognorm_generator = lognormal(generator, n, m_log, s_log) \n",
    "minn = min(onedim_mmg + onedim_generator)\n",
    "maxx = max(onedim_mmg + onedim_generator)\n",
    "bins = list(np.arange(0, 5, 0.005))   \n",
    "fig, axs = plt.subplots(2,1)\n",
    "axs[0].hist(lognorm_mmg, bins = bins)\n",
    "axs[0].set_title(\"Lognormal mmg\")\n",
    "axs[0].grid(True)\n",
    "axs[1].hist(lognorm_generator, bins = bins)\n",
    "axs[1].set_title(\"Lognormal generator\")\n",
    "axs[1].grid(True)\n",
    "fig.tight_layout()\n",
    "plt.show()    "
   ]
  },
  {
   "cell_type": "code",
   "execution_count": 92,
   "metadata": {},
   "outputs": [
    {
     "name": "stdout",
     "output_type": "stream",
     "text": [
      "Статистика для логнормального распределения (Маклорен-Марсалья)\n",
      "Теоретическое мат. ожидание: 1.6487212707001282\n",
      "Несмещенная оценка матожидания: 1.6395003103253898\n",
      "Теоретическая дисперсия: 4.670774270471604\n",
      "Несмещенная оценка дисперсии: 4.198024622951703\n",
      "\n",
      "Статистика для логнормального распределения (встроенный генератор))\n",
      "Теоретическое мат. ожидание: 1.6487212707001282\n",
      "Несмещенная оценка матожидания: 1.6346488644220982\n",
      "Теоретическая дисперсия: 4.670774270471604\n",
      "Несмещенная оценка дисперсии: 4.193615776115802\n"
     ]
    }
   ],
   "source": [
    "def lognormal_cdf(x, m, s):\n",
    "    return 0.5 * (1 + math.erf((np.log(x) - m) / (s * 2 ** 0.5)))\n",
    "\n",
    "print('Статистика для логнормального распределения (Маклорен-Марсалья)')\n",
    "print(\"Теоретическое мат. ожидание:\", np.exp(m_log + s_log**2 / 2))\n",
    "print(\"Несмещенная оценка матожидания:\", mmean(lognorm_mmg))\n",
    "print(\"Теоретическая дисперсия:\",  (np.exp(s_log**2) - 1) * np.exp(2 * m_log + s_log**2))\n",
    "print(\"Несмещенная оценка дисперсии:\", vvar(lognorm_mmg))\n",
    "\n",
    "print('\\nСтатистика для логнормального распределения (встроенный генератор))')\n",
    "print(\"Теоретическое мат. ожидание:\", np.exp(m_log + s_log**2 / 2))\n",
    "print(\"Несмещенная оценка матожидания:\", mmean(lognorm_generator))\n",
    "print(\"Теоретическая дисперсия:\",  (np.exp(s_log**2) - 1) * np.exp(2 * m_log + s_log**2))\n",
    "print(\"Несмещенная оценка дисперсии:\", vvar(lognorm_generator))"
   ]
  },
  {
   "cell_type": "markdown",
   "metadata": {},
   "source": [
    "Критерий Колмогорова для логнормального распределения"
   ]
  },
  {
   "cell_type": "code",
   "execution_count": 93,
   "metadata": {},
   "outputs": [
    {
     "name": "stdout",
     "output_type": "stream",
     "text": [
      "Критерий Колмогорова для MMG\n",
      "\n",
      "\tУровень доверия: 0.95\n",
      "\tH0 принята: 0.8222300886912214 < 1.3580986393225505.\n",
      "Критерий Колмогорова для встроенного генератора\n",
      "\n",
      "\tУровень доверия: 0.95\n",
      "\tH0 принята: 1.2464972512496864 < 1.3580986393225505.\n"
     ]
    }
   ],
   "source": [
    "print('Критерий Колмогорова для MMG')\n",
    "ks_test(lognorm_mmg, lognormal_cdf, m=m_log, s=s_log)\n",
    "print('Критерий Колмогорова для встроенного генератора')\n",
    "ks_test(lognorm_generator, lognormal_cdf, m=m_log, s=s_log)"
   ]
  },
  {
   "cell_type": "markdown",
   "metadata": {},
   "source": [
    "Хи-квадрат для логнормального"
   ]
  },
  {
   "cell_type": "code",
   "execution_count": 94,
   "metadata": {},
   "outputs": [
    {
     "name": "stdout",
     "output_type": "stream",
     "text": [
      "Логнормальное распределение\n",
      "Хи-квадрат для встроенного генератора\n",
      "\tУровень доверия: 0.95\n",
      "\tH0 принята: 762.7099287719815 < 1073.6426506574246.\n",
      "Хи-квадрат для реализованного генератора\n",
      "\tУровень доверия: 0.95\n",
      "\tH0 принята: 678.8021764005148 < 1073.6426506574246.\n"
     ]
    }
   ],
   "source": [
    "perform_chi2(\"Логнормальное распределение\", lognorm_mmg, lognorm_generator, lognormal_cdf, m = m_log, s = s_log)"
   ]
  },
  {
   "cell_type": "markdown",
   "metadata": {},
   "source": [
    "Экспоненциальное распределение"
   ]
  },
  {
   "cell_type": "code",
   "execution_count": 95,
   "metadata": {},
   "outputs": [
    {
     "data": {
      "image/png": "[encoded data removed]",
      "text/plain": [
       "<Figure size 640x480 with 2 Axes>"
      ]
     },
     "metadata": {},
     "output_type": "display_data"
    }
   ],
   "source": [
    "def exponential(a, n, m):\n",
    "    data = [ ((-1) / m) * np.log(a[i]) if a[i] != 0 else 0 for i in range(n)]\n",
    "    return data\n",
    "\n",
    "m_exp = 0.5\n",
    "\n",
    "exp_mmg = exponential(mmg.U, n, m_exp)\n",
    "exp_generator = exponential(generator, n, m_exp)\n",
    "minn = min(exp_mmg + exp_generator)\n",
    "maxx = max(exp_mmg + exp_generator)\n",
    "bins = list(np.arange(minn, maxx, (maxx - minn) / 1000))  \n",
    "fig, axs = plt.subplots(2,1)\n",
    "axs[0].hist(exp_mmg, bins = bins)\n",
    "axs[0].set_title(\"Exponential mmg\")\n",
    "axs[0].grid(True)\n",
    "axs[1].hist(exp_generator, bins = bins)\n",
    "axs[1].set_title(\"Exponential generator\")\n",
    "axs[1].grid(True)\n",
    "fig.tight_layout()\n",
    "plt.show() "
   ]
  },
  {
   "cell_type": "markdown",
   "metadata": {},
   "source": [
    "Статистика для экспоненциального распределения"
   ]
  },
  {
   "cell_type": "code",
   "execution_count": 96,
   "metadata": {},
   "outputs": [
    {
     "name": "stdout",
     "output_type": "stream",
     "text": [
      "Статистика для экспоненциального распределения (Маклорен-Марсалья)\n",
      "Теоретическое мат. ожидание: 2.0\n",
      "Несмещенная оценка матожидания: 2.0018658185119076\n",
      "Теоретическая дисперсия: 4.0\n",
      "Несмещенная оценка дисперсии: 4.015240741804772\n",
      "\n",
      "Статистика для экспоненциального распределения (встроенный генератор)\n",
      "Теоретическое мат. ожидание: 2.0\n",
      "Несмещенная оценка матожидания: 2.0090276325809455\n",
      "Теоретическая дисперсия: 4.0\n",
      "Несмещенная оценка дисперсии: 4.030113455328855\n"
     ]
    }
   ],
   "source": [
    "def exponential_cdf(x, m):\n",
    "    return 1 - np.exp((-1)*m * x)\n",
    "print(\"Статистика для экспоненциального распределения (Маклорен-Марсалья)\")\n",
    "print(\"Теоретическое мат. ожидание:\", 1 / m_exp)\n",
    "print(\"Несмещенная оценка матожидания:\", mmean(exp_mmg))\n",
    "print(\"Теоретическая дисперсия:\",  1 / m_exp ** 2)\n",
    "print(\"Несмещенная оценка дисперсии:\", vvar(exp_mmg))\n",
    "\n",
    "print(\"\\nСтатистика для экспоненциального распределения (встроенный генератор)\")\n",
    "print(\"Теоретическое мат. ожидание:\",1 / m_exp)\n",
    "print(\"Несмещенная оценка матожидания:\", mmean(exp_generator))\n",
    "print(\"Теоретическая дисперсия:\",  1 / m_exp ** 2)\n",
    "print(\"Несмещенная оценка дисперсии:\", vvar(exp_generator))"
   ]
  },
  {
   "cell_type": "markdown",
   "metadata": {},
   "source": [
    "Критерий Колмогорова для экспоненционального распределения"
   ]
  },
  {
   "cell_type": "code",
   "execution_count": 97,
   "metadata": {},
   "outputs": [
    {
     "name": "stdout",
     "output_type": "stream",
     "text": [
      "Критерий Колмогорова для MMG\n",
      "\n",
      "\tУровень доверия: 0.95\n",
      "\tH0 принята: 0.4316782921452041 < 1.3580986393225505.\n",
      "Критерий Колмогорова для встроенного генератора\n",
      "\n",
      "\tУровень доверия: 0.95\n",
      "\tH0 принята: 0.8837229890860953 < 1.3580986393225505.\n"
     ]
    }
   ],
   "source": [
    "print('Критерий Колмогорова для MMG')\n",
    "ks_test(exp_mmg, exponential_cdf, m=m_exp)\n",
    "print('Критерий Колмогорова для встроенного генератора')\n",
    "ks_test(exp_generator, exponential_cdf, m=m_exp)"
   ]
  },
  {
   "cell_type": "markdown",
   "metadata": {},
   "source": [
    "Хи-квадрат для экспоненциального распределения"
   ]
  },
  {
   "cell_type": "code",
   "execution_count": 98,
   "metadata": {},
   "outputs": [
    {
     "name": "stdout",
     "output_type": "stream",
     "text": [
      "Экспоненциальное распределение\n",
      "Хи-квадрат для встроенного генератора\n",
      "\tУровень доверия: 0.95\n",
      "\tH0 принята: 727.622310131008 < 1073.6426506574246.\n",
      "Хи-квадрат для реализованного генератора\n",
      "\tУровень доверия: 0.95\n",
      "\tH0 принята: 1019.4764934679383 < 1073.6426506574246.\n"
     ]
    }
   ],
   "source": [
    "perform_chi2(\"Экспоненциальное распределение\", exp_mmg, exp_generator, exponential_cdf, m = m_exp)"
   ]
  },
  {
   "cell_type": "markdown",
   "metadata": {},
   "source": [
    "Распределение Лапласа"
   ]
  },
  {
   "cell_type": "code",
   "execution_count": 99,
   "metadata": {},
   "outputs": [
    {
     "data": {
      "image/png": "[encoded data removed]",
      "text/plain": [
       "<Figure size 640x480 with 2 Axes>"
      ]
     },
     "metadata": {},
     "output_type": "display_data"
    }
   ],
   "source": [
    "from scipy import stats\n",
    "def laplas(a, n, l):\n",
    "    data = []\n",
    "    for i in range(n + 1):\n",
    "        if a[i] == 0:\n",
    "            data.append(0)\n",
    "        else:\n",
    "            data.append(l * np.log(a[i + 1] / a[i]))\n",
    "    return data\n",
    "\n",
    "l_laplas = 1\n",
    "m = 0\n",
    "\n",
    "laplas_mmg = laplas(mmg.U, n, l_laplas)\n",
    "laplas_generator = laplas(generator, n, l_laplas)\n",
    "bins = list(np.arange(-6, 6, 0.012))  \n",
    "fig, axs = plt.subplots(2,1)\n",
    "axs[0].hist(laplas_mmg, bins = bins)\n",
    "axs[0].set_title(\"Laplas mmg\")\n",
    "axs[0].grid(True)\n",
    "axs[1].hist(laplas_generator, bins = bins)\n",
    "axs[1].set_title(\"Laplas generator\")\n",
    "axs[1].grid(True)\n",
    "fig.tight_layout()\n",
    "plt.show() "
   ]
  },
  {
   "cell_type": "markdown",
   "metadata": {},
   "source": [
    "Статистика для распределения Лапласа"
   ]
  },
  {
   "cell_type": "code",
   "execution_count": 100,
   "metadata": {},
   "outputs": [
    {
     "name": "stdout",
     "output_type": "stream",
     "text": [
      "Статистика для распределения Лапласа (Маклорен-Марсалья)\n",
      "Теоретическое мат. ожидание: 0\n",
      "Несмещенная оценка матожидания: 8.090338023410609e-05\n",
      "Теоретическая дисперсия: 2.0\n",
      "Несмещенная оценка дисперсии: 2.0256372881745706\n",
      "\n",
      "Статистика для распределения Лапласа (встроенный генератор)\n",
      "Теоретическое мат. ожидание: 0\n",
      "Несмещенная оценка матожидания: -1.2922193449740137e-06\n",
      "Теоретическая дисперсия: 2.0\n",
      "Несмещенная оценка дисперсии: 2.026205396022857\n"
     ]
    }
   ],
   "source": [
    "def laplas_cdf(x, l):\n",
    "    if x <= 0:\n",
    "        return 0.5 * np.exp(x / l)\n",
    "    else:\n",
    "        return 1 - 0.5 * np.exp(-x / l)\n",
    "    \n",
    "print('Статистика для распределения Лапласа (Маклорен-Марсалья)')\n",
    "print(\"Теоретическое мат. ожидание:\", m)\n",
    "print(\"Несмещенная оценка матожидания:\", mmean(laplas_mmg))\n",
    "print(\"Теоретическая дисперсия:\",  2 / l_laplas ** 2)\n",
    "print(\"Несмещенная оценка дисперсии:\", vvar(laplas_mmg))\n",
    "\n",
    "print('\\nСтатистика для распределения Лапласа (встроенный генератор)')\n",
    "print(\"Теоретическое мат. ожидание:\", m)\n",
    "print(\"Несмещенная оценка матожидания:\", mmean(laplas_generator))\n",
    "print(\"Теоретическая дисперсия:\",  2 / l_laplas ** 2)\n",
    "print(\"Несмещенная оценка дисперсии:\", vvar(laplas_generator))\n"
   ]
  },
  {
   "cell_type": "markdown",
   "metadata": {},
   "source": [
    "Критерий Колмогорова для распределения Лапласа"
   ]
  },
  {
   "cell_type": "code",
   "execution_count": 101,
   "metadata": {},
   "outputs": [
    {
     "name": "stdout",
     "output_type": "stream",
     "text": [
      "Критерий Колмогорова для MMG\n",
      "\n",
      "\tУровень доверия: 0.95\n",
      "\tH0 принята: 0.7282253286461448 < 1.3580986393225505.\n",
      "Критерий Колмогорова для встроенного генератора\n",
      "\n",
      "\tУровень доверия: 0.95\n",
      "\tH0 принята: 0.8859313008209035 < 1.3580986393225505.\n"
     ]
    }
   ],
   "source": [
    "print('Критерий Колмогорова для MMG')\n",
    "ks_test(laplas_mmg, laplas_cdf, l = l_laplas)\n",
    "print('Критерий Колмогорова для встроенного генератора')\n",
    "ks_test(laplas_generator, laplas_cdf, l=l_laplas)"
   ]
  },
  {
   "cell_type": "markdown",
   "metadata": {},
   "source": [
    "Хи-квадрат для распределения Лапласа"
   ]
  },
  {
   "cell_type": "code",
   "execution_count": 102,
   "metadata": {},
   "outputs": [
    {
     "name": "stdout",
     "output_type": "stream",
     "text": [
      "Распределение Лапласа\n",
      "Хи-квадрат для встроенного генератора\n",
      "\tУровень доверия: 0.95\n",
      "\tH0 принята: 950.0357547642716 < 1073.6426506574246.\n",
      "Хи-квадрат для реализованного генератора\n",
      "\tУровень доверия: 0.95\n",
      "\tH0 принята: 1040.9754333391122 < 1073.6426506574246.\n"
     ]
    }
   ],
   "source": [
    "perform_chi2(\"Распределение Лапласа\", laplas_mmg, laplas_generator, laplas_cdf, l = l_laplas)"
   ]
  },
  {
   "cell_type": "markdown",
   "metadata": {},
   "source": [
    "Распределение Вейбулла-Гнеденко"
   ]
  },
  {
   "cell_type": "code",
   "execution_count": 103,
   "metadata": {},
   "outputs": [
    {
     "data": {
      "image/png": "[encoded data removed]",
      "text/plain": [
       "<Figure size 640x480 with 2 Axes>"
      ]
     },
     "metadata": {},
     "output_type": "display_data"
    }
   ],
   "source": [
    "def WG(a, n, l, c):\n",
    "    data = [((-1) * (1/l) * np.log(a[i]))**(1/c) if a[i] != 0 else 0 for i in range(n)]\n",
    "    return data\n",
    "\n",
    "l_wg = 1\n",
    "c_wg = 1.5 \n",
    "wg_mmg = WG(mmg.U, n, l_wg, c_wg)\n",
    "wg_generator = WG(generator, n, l_wg, c_wg)\n",
    "minn = min(wg_mmg + wg_generator)\n",
    "maxx = max(wg_mmg + wg_generator)\n",
    "bins = list(np.arange(minn, maxx, (maxx - minn) / 1000))  \n",
    "fig, axs = plt.subplots(2,1)\n",
    "axs[0].hist(wg_mmg, bins = bins)\n",
    "axs[0].set_title(\"Weibull-Gnedenko mmg\")\n",
    "axs[0].grid(True)\n",
    "axs[1].hist(wg_generator, bins = bins)\n",
    "axs[1].set_title(\"Weibull-Gnedenko generator\")\n",
    "axs[1].grid(True)\n",
    "fig.tight_layout()\n",
    "plt.show() "
   ]
  },
  {
   "cell_type": "markdown",
   "metadata": {},
   "source": [
    "Статистика для распределения Вейбулла-Гнеденко"
   ]
  },
  {
   "cell_type": "code",
   "execution_count": 104,
   "metadata": {},
   "outputs": [
    {
     "name": "stdout",
     "output_type": "stream",
     "text": [
      "Статистика для распределения Вейбулла-Гнеденко (Маклорен-Марсалья)\n",
      "Теоретическое мат. ожидание: 0.9027452929509336\n",
      "Несмещенная оценка матожидания: 0.9032226743064702\n",
      "Теоретическая дисперсия: 0.37569028481393174\n",
      "Несмещенная оценка дисперсии: 0.37660917376101216\n",
      "\n",
      "Статистика для распределения Вейбулла-Гнеденко (встроенный генератор)\n",
      "Теоретическое мат. ожидание: 0.9027452929509336\n",
      "Несмещенная оценка матожидания: 0.9052791311844656\n",
      "Теоретическая дисперсия: 0.37569028481393174\n",
      "Несмещенная оценка дисперсии: 0.3783504942053877\n"
     ]
    }
   ],
   "source": [
    "def wg_cdf(x, l, c):\n",
    "    if x >= 0:\n",
    "        return 1-math.e**((-1)*(x/l)**c)\n",
    "    else:\n",
    "        return 0\n",
    "    \n",
    "print('Статистика для распределения Вейбулла-Гнеденко (Маклорен-Марсалья)')\n",
    "print(\"Теоретическое мат. ожидание:\", l_wg**(-1/c_wg) * math.gamma(1 + 1/c_wg))\n",
    "print(\"Несмещенная оценка матожидания:\", mmean(wg_mmg))\n",
    "print(\"Теоретическая дисперсия:\",  l_wg**(-2/c_wg)*(math.gamma(1+2/c_wg)-(math.gamma(1+1/c_wg))**2))\n",
    "print(\"Несмещенная оценка дисперсии:\", vvar(wg_mmg))\n",
    "\n",
    "print('\\nСтатистика для распределения Вейбулла-Гнеденко (встроенный генератор)')\n",
    "print(\"Теоретическое мат. ожидание:\",l_wg**(-1/c_wg) * math.gamma(1 + 1/c_wg))\n",
    "print(\"Несмещенная оценка матожидания:\", mmean(wg_generator))\n",
    "print(\"Теоретическая дисперсия:\",   l_wg**(-2/c_wg)*(math.gamma(1+2/c_wg)-(math.gamma(1+1/c_wg))**2))\n",
    "print(\"Несмещенная оценка дисперсии:\", vvar(wg_generator))"
   ]
  },
  {
   "cell_type": "markdown",
   "metadata": {},
   "source": [
    "Критерий Колмогорова для распределения Вейбулла"
   ]
  },
  {
   "cell_type": "code",
   "execution_count": 105,
   "metadata": {},
   "outputs": [
    {
     "name": "stdout",
     "output_type": "stream",
     "text": [
      "Критерий Колмогорова для MMG\n",
      "\n",
      "\tУровень доверия: 0.95\n",
      "\tH0 принята: 0.4316782921452041 < 1.3580986393225505.\n",
      "Критерий Колмогорова для встроенного генератора\n",
      "\n",
      "\tУровень доверия: 0.95\n",
      "\tH0 принята: 0.8837229890860953 < 1.3580986393225505.\n"
     ]
    }
   ],
   "source": [
    "print('Критерий Колмогорова для MMG')\n",
    "ks_test(wg_mmg, wg_cdf, l = l_wg, c = c_wg)\n",
    "print('Критерий Колмогорова для встроенного генератора')\n",
    "ks_test(wg_generator, wg_cdf, l = l_wg, c = c_wg)"
   ]
  },
  {
   "cell_type": "markdown",
   "metadata": {},
   "source": [
    "Хи-квадрат для распределения Вейбулла- Гнеденко"
   ]
  },
  {
   "cell_type": "code",
   "execution_count": 106,
   "metadata": {},
   "outputs": [
    {
     "name": "stdout",
     "output_type": "stream",
     "text": [
      "Распределение Вейбулла-Гнеденко\n",
      "Хи-квадрат для встроенного генератора\n",
      "\tУровень доверия: 0.95\n",
      "\tH0 принята: 788.8807793958703 < 1073.6426506574246.\n",
      "Хи-квадрат для реализованного генератора\n",
      "\tУровень доверия: 0.95\n",
      "\tH0 принята: 1015.9646154720826 < 1073.6426506574246.\n"
     ]
    }
   ],
   "source": [
    "perform_chi2(\"Распределение Вейбулла-Гнеденко\", wg_mmg, wg_generator, wg_cdf, l = l_wg, c = c_wg)"
   ]
  },
  {
   "cell_type": "markdown",
   "metadata": {},
   "source": [
    "Гамма - распределение "
   ]
  },
  {
   "cell_type": "code",
   "execution_count": 107,
   "metadata": {},
   "outputs": [
    {
     "data": {
      "image/png": "[encoded data removed]",
      "text/plain": [
       "<Figure size 640x480 with 2 Axes>"
      ]
     },
     "metadata": {},
     "output_type": "display_data"
    }
   ],
   "source": [
    "from scipy.stats import gamma\n",
    "def comb(a):\n",
    "    c = a[0]\n",
    "    for i in range(1, len(a)):\n",
    "        c = c * a[i]\n",
    "    return c\n",
    "\n",
    "def gamma_(a, n, b, nu):\n",
    "    data = []\n",
    "    for i in range(0, n * nu, nu):\n",
    "        temp = np.log(comb(a[i:(i + nu)]))\n",
    "        if temp == 0:\n",
    "            data.append(0)\n",
    "        else:\n",
    "            data.append((-1) * temp * b)\n",
    "    return data\n",
    "\n",
    "b_gamma = 2\n",
    "nu_gamma = 2 \n",
    "\n",
    "gamma_mmg = gamma_(mmg.U, n, b_gamma, nu_gamma)\n",
    "gamma_generator = gamma_(generator, n, b_gamma, nu_gamma)\n",
    "minn = min(gamma_mmg + gamma_generator)\n",
    "maxx = max(gamma_mmg + gamma_generator)\n",
    "bins = list(np.arange(minn, maxx, (maxx - minn) / 1000))  \n",
    "fig, axs = plt.subplots(2,1)\n",
    "axs[0].hist(gamma_mmg, bins = bins)\n",
    "axs[0].set_title(\"Gamma mmg\")\n",
    "axs[0].grid(True)\n",
    "axs[1].hist(gamma_generator, bins = bins)\n",
    "axs[1].set_title(\"Gamma generator\")\n",
    "axs[1].grid(True)\n",
    "fig.tight_layout()\n",
    "plt.show() "
   ]
  },
  {
   "cell_type": "markdown",
   "metadata": {},
   "source": [
    "Статистика для гамма-распределения"
   ]
  },
  {
   "cell_type": "code",
   "execution_count": 108,
   "metadata": {},
   "outputs": [
    {
     "name": "stdout",
     "output_type": "stream",
     "text": [
      "Статистика для Гамма - распределения (Маклорен-Марсалья)\n",
      "Теоретическое мат. ожидание: 4\n",
      "Несмещенная оценка матожидания: 4.009971658163587\n",
      "Теоретическая дисперсия: 8\n",
      "Несмещенная оценка дисперсии: 8.037581398843422\n",
      "\n",
      "Статистика для Гамма - распределения (встроенный генератор)\n",
      "Теоретическое мат. ожидание: 4\n",
      "Несмещенная оценка матожидания: 4.011049144628293\n",
      "Теоретическая дисперсия: 8\n",
      "Несмещенная оценка дисперсии: 8.01033949994761\n"
     ]
    }
   ],
   "source": [
    "\n",
    "def gamma_cdf(x, b, nu):\n",
    "    return  gamma.cdf(x, b, scale = nu)\n",
    "print('Статистика для Гамма - распределения (Маклорен-Марсалья)')\n",
    "print(\"Теоретическое мат. ожидание:\",  nu_gamma * b_gamma)\n",
    "print(\"Несмещенная оценка матожидания:\", mmean(gamma_mmg))\n",
    "print(\"Теоретическая дисперсия:\",  nu_gamma * b_gamma ** 2)\n",
    "print(\"Несмещенная оценка дисперсии:\", vvar(gamma_mmg))\n",
    "\n",
    "print('\\nСтатистика для Гамма - распределения (встроенный генератор)')\n",
    "print(\"Теоретическое мат. ожидание:\", nu_gamma * b_gamma)\n",
    "print(\"Несмещенная оценка матожидания:\", mmean(gamma_generator))\n",
    "print(\"Теоретическая дисперсия:\", nu_gamma * b_gamma ** 2)\n",
    "print(\"Несмещенная оценка дисперсии:\", vvar(gamma_generator))\n"
   ]
  },
  {
   "cell_type": "markdown",
   "metadata": {},
   "source": [
    "Критерий Колмогорова для Гамма-распределения"
   ]
  },
  {
   "cell_type": "code",
   "execution_count": 109,
   "metadata": {},
   "outputs": [
    {
     "name": "stdout",
     "output_type": "stream",
     "text": [
      "Критерий Колмогорова для MMG\n",
      "\n",
      "\tУровень доверия: 0.95\n",
      "\tH0 принята: 0.8542500784619108 < 1.3580986393225505.\n",
      "Критерий Колмогорова для встроенного генератора\n",
      "\n",
      "\tУровень доверия: 0.95\n",
      "\tH0 принята: 1.0618886739183142 < 1.3580986393225505.\n"
     ]
    }
   ],
   "source": [
    "print('Критерий Колмогорова для MMG')\n",
    "ks_test(gamma_mmg, gamma_cdf, b = b_gamma, nu = nu_gamma)\n",
    "print('Критерий Колмогорова для встроенного генератора')\n",
    "ks_test(gamma_generator, gamma_cdf, b = b_gamma, nu = nu_gamma)"
   ]
  },
  {
   "cell_type": "markdown",
   "metadata": {},
   "source": [
    "Хи- квадрат для Гамма - распределения"
   ]
  },
  {
   "cell_type": "code",
   "execution_count": 110,
   "metadata": {},
   "outputs": [
    {
     "name": "stdout",
     "output_type": "stream",
     "text": [
      "Гамма - распределение\n",
      "Хи-квадрат для встроенного генератора\n",
      "\tУровень доверия: 0.95\n",
      "\tH0 принята: 942.8564274355409 < 1073.6426506574246.\n",
      "Хи-квадрат для реализованного генератора\n",
      "\tУровень доверия: 0.95\n",
      "\tH0 принята: 800.1673595979861 < 1073.6426506574246.\n"
     ]
    }
   ],
   "source": [
    "perform_chi2(\"Гамма - распределение\", gamma_mmg, gamma_generator, gamma_cdf, b = b_gamma, nu = nu_gamma)"
   ]
  },
  {
   "cell_type": "markdown",
   "metadata": {},
   "source": [
    "Распределение Хи-квадрат"
   ]
  },
  {
   "cell_type": "code",
   "execution_count": 111,
   "metadata": {},
   "outputs": [
    {
     "data": {
      "image/png": "[encoded data removed]",
      "text/plain": [
       "<Figure size 640x480 with 2 Axes>"
      ]
     },
     "metadata": {},
     "output_type": "display_data"
    }
   ],
   "source": [
    "from scipy.stats import chi2\n",
    "\n",
    "def chi2d(a, n, m):\n",
    "    data = []\n",
    "    res = []\n",
    "    for i in range(0, n * m * 2 , 2):\n",
    "        a1 = a[i]\n",
    "        a2 = a[i + 1]\n",
    "        data.append(np.sqrt(-2 * np.log(a1)) * np.cos(2 * np.pi * a2))\n",
    "        data.append(np.sqrt(-2 * np.log(a1)) * np.sin(2 * np.pi * a2))  \n",
    "    for i in range(0, n * m, m):\n",
    "        res.append(sum([elem ** 2 for elem in data[i:(i + m)]]))\n",
    "    return res\n",
    "\n",
    "m_chi2 = 5\n",
    "chi2_mmg = chi2d(mmg.U, n,m_chi2)\n",
    "chi2_generator = chi2d(generator, n,m_chi2) \n",
    "fig, axs = plt.subplots(2,1)\n",
    "axs[0].hist(chi2_mmg, bins = 1000)\n",
    "axs[0].set_title(\"Chi2 mmg\")\n",
    "axs[0].grid(True)\n",
    "axs[1].hist(chi2_generator, bins = 1000)\n",
    "axs[1].set_title(\"Chi2 generator\")\n",
    "axs[1].grid(True)\n",
    "fig.tight_layout()\n",
    "plt.show() "
   ]
  },
  {
   "cell_type": "markdown",
   "metadata": {},
   "source": [
    "Статистика для распределения Хи-квадрат"
   ]
  },
  {
   "cell_type": "code",
   "execution_count": 112,
   "metadata": {},
   "outputs": [
    {
     "name": "stdout",
     "output_type": "stream",
     "text": [
      "Статистика для распределения Хи-квадрат (Маклорен-Марсалья)\n",
      "Теоретическое мат. ожидание: 5\n",
      "Несмещенная оценка матожидания: 5.014885859282345\n",
      "Теоретическая дисперсия: 10\n",
      "Несмещенная оценка дисперсии: 10.0085982392626\n",
      "\n",
      "Статистика для распределения Хи-квадрат (встроенный генератор)\n",
      "Теоретическое мат. ожидание: 5\n",
      "Несмещенная оценка матожидания: 5.007624145025495\n",
      "Теоретическая дисперсия: 10\n",
      "Несмещенная оценка дисперсии: 10.103326593216975\n"
     ]
    }
   ],
   "source": [
    "import scipy.special\n",
    "def chi2_cdf(x, m):\n",
    "   return stats.chi2.cdf(x, m)\n",
    "print('Статистика для распределения Хи-квадрат (Маклорен-Марсалья)')\n",
    "print(\"Теоретическое мат. ожидание:\", m_chi2)\n",
    "print(\"Несмещенная оценка матожидания:\", mmean(chi2_mmg))\n",
    "print(\"Теоретическая дисперсия:\",  2 * m_chi2)\n",
    "print(\"Несмещенная оценка дисперсии:\", vvar(chi2_mmg))\n",
    "\n",
    "print('\\nСтатистика для распределения Хи-квадрат (встроенный генератор)')\n",
    "print(\"Теоретическое мат. ожидание:\", m_chi2)\n",
    "print(\"Несмещенная оценка матожидания:\", mmean(chi2_generator))\n",
    "print(\"Теоретическая дисперсия:\", 2 * m_chi2)\n",
    "print(\"Несмещенная оценка дисперсии:\", vvar(chi2_generator))"
   ]
  },
  {
   "cell_type": "markdown",
   "metadata": {},
   "source": [
    "Критерий Колмогорова для распределения Хи-квадрат"
   ]
  },
  {
   "cell_type": "code",
   "execution_count": 113,
   "metadata": {},
   "outputs": [
    {
     "name": "stdout",
     "output_type": "stream",
     "text": [
      "Критерий Колмогорова для MMG\n",
      "\n",
      "\tУровень доверия: 0.95\n",
      "\tH0 принята: 0.8354494494817991 < 1.3580986393225505.\n",
      "Критерий Колмогорова для встроенного генератора\n",
      "\n",
      "\tУровень доверия: 0.95\n",
      "\tH0 принята: 0.7262210713534378 < 1.3580986393225505.\n"
     ]
    }
   ],
   "source": [
    "print('Критерий Колмогорова для MMG')\n",
    "ks_test(chi2_mmg, chi2_cdf, m = m_chi2)\n",
    "print('Критерий Колмогорова для встроенного генератора')\n",
    "ks_test(chi2_generator, chi2_cdf, m = m_chi2)"
   ]
  },
  {
   "cell_type": "markdown",
   "metadata": {},
   "source": [
    "Хи-квадрат для распределения Хи-квадрат"
   ]
  },
  {
   "cell_type": "code",
   "execution_count": 114,
   "metadata": {},
   "outputs": [
    {
     "name": "stdout",
     "output_type": "stream",
     "text": [
      "Хи-квадрат\n",
      "Хи-квадрат для встроенного генератора\n",
      "\tУровень доверия: 0.95\n",
      "\tH0 принята: 1001.0226822102675 < 1073.6426506574246.\n",
      "Хи-квадрат для реализованного генератора\n",
      "\tУровень доверия: 0.95\n",
      "\tH0 принята: 868.785634303596 < 1073.6426506574246.\n"
     ]
    }
   ],
   "source": [
    "perform_chi2(\"Хи-квадрат\", chi2_mmg, chi2_generator, chi2_cdf, m = m_chi2)"
   ]
  }
 ],
 "metadata": {
  "kernelspec": {
   "display_name": "Python 3",
   "language": "python",
   "name": "python3"
  },
  "language_info": {
   "codemirror_mode": {
    "name": "ipython",
    "version": 3
   },
   "file_extension": ".py",
   "mimetype": "text/x-python",
   "name": "python",
   "nbconvert_exporter": "python",
   "pygments_lexer": "ipython3",
   "version": "3.11.3"
  }
 },
 "nbformat": 4,
 "nbformat_minor": 2
}
