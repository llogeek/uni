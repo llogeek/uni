{
 "cells": [
  {
   "cell_type": "code",
   "execution_count": 621,
   "metadata": {},
   "outputs": [],
   "source": [
    "import math\n",
    "import numpy as np\n",
    "import random\n",
    "import matplotlib.pyplot as plt\n",
    "from scipy.stats import randint, bernoulli, binom, nbinom, geom, poisson, chi2, hypergeom, norm\n",
    "eps = 0.05"
   ]
  },
  {
   "cell_type": "markdown",
   "metadata": {},
   "source": [
    "Linear Generator"
   ]
  },
  {
   "cell_type": "code",
   "execution_count": 622,
   "metadata": {},
   "outputs": [],
   "source": [
    "class LCG: \n",
    "    def __init__(self, a, c, m, start, n):\n",
    "        self.a = a\n",
    "        self.c = c\n",
    "        self.m = m\n",
    "        self.start = start\n",
    "        self.generated = []\n",
    "        self.count_n_items(n)\n",
    "        self.U = [i / self.m for i in self.generated]\n",
    "\n",
    "    \n",
    "    def __str__(self) -> str:\n",
    "        return \"Linear Congruent Generator:\\n x_n+1 = ({} * x_n + {}) mod {};  x0 = {}.\".format(self.a, self.c, self.m, self.start)\n",
    "\n",
    "    def count_next(self):\n",
    "        if len(self.generated) == 0:\n",
    "            return (self.a * self.start + self.c) % self.m\n",
    "        elif len(self.generated) > 0:\n",
    "            return (self.a * self.generated[len(self.generated) - 1] + self.c) % self.m \n",
    "\n",
    "    def count_n_items(self, n):\n",
    "        for i in range(n+300):\n",
    "            self.generated.append(self.count_next())\n",
    "    \n",
    "    def get_mean(self, n):\n",
    "        return np.mean(self.U[:n])\n",
    "    \n",
    "    def get_var(self, n):\n",
    "        return np.var(self.U[:n])"
   ]
  },
  {
   "cell_type": "markdown",
   "metadata": {},
   "source": [
    "Macloren-Marsalgia generator"
   ]
  },
  {
   "cell_type": "code",
   "execution_count": 623,
   "metadata": {},
   "outputs": [],
   "source": [
    "class MMG:\n",
    "    def __init__(self, generator1, generator2, k, n):\n",
    "        self.X = generator1\n",
    "        self.Y = generator2\n",
    "        self.k = k\n",
    "        self.n = n\n",
    "        self.V = [self.X.generated[i] for i in range(k)]\n",
    "        self.U = [0 for _ in range(n)]\n",
    "        self.generate()\n",
    "    \n",
    "    def generate(self):\n",
    "        for i in range(self.n):\n",
    "            s = math.floor(self.Y.generated[i] * self.k / self.Y.m)\n",
    "            self.U[i] = self.V[s] / self.X.m \n",
    "            self.V[s] = self.X.generated[i+self.k]\n",
    "    \n",
    "    def get_mean(self, n):\n",
    "        return sum(self.U[:n]) / n\n",
    "    \n",
    "    def get_var(self, n):\n",
    "        m = 1 / n * sum(self.U[:n])\n",
    "        return sum([(self.U[i] - m)**2 for i in range(n)]) / (n - 1)\n",
    "            "
   ]
  },
  {
   "cell_type": "markdown",
   "metadata": {},
   "source": [
    "Используемый генератор Маклорена-Марсальи, который прошел все тест в л.р. 1"
   ]
  },
  {
   "cell_type": "code",
   "execution_count": 624,
   "metadata": {},
   "outputs": [],
   "source": [
    "n1 = 10**4\n",
    "n2 = 10**6\n",
    "generator_12 = LCG(75, 74, 2**16+1, 7, n2*10)\n",
    "generator_13 = LCG(25214903917, 11,2**48, 2**8, n2*10)\n",
    "# генератор Маклорена-Марсальи\n",
    "mmg = MMG(generator_12, generator_13, 128, n2*10)"
   ]
  },
  {
   "cell_type": "markdown",
   "metadata": {},
   "source": [
    "Случайный генератор"
   ]
  },
  {
   "cell_type": "code",
   "execution_count": 625,
   "metadata": {},
   "outputs": [],
   "source": [
    "generator = [random.random() for _ in range(100000)]"
   ]
  },
  {
   "cell_type": "markdown",
   "metadata": {},
   "source": [
    "Хи-квадрат"
   ]
  },
  {
   "cell_type": "code",
   "execution_count": 626,
   "metadata": {},
   "outputs": [],
   "source": [
    "def chisquare(freq_obs, freq_exp):\n",
    "    chisquare = 0.0\n",
    "    for i in range(len(freq_obs)):\n",
    "        chisquare += ((freq_obs[i] - freq_exp[i])**2 / freq_exp[i])\n",
    "    return chisquare"
   ]
  },
  {
   "cell_type": "markdown",
   "metadata": {},
   "source": [
    "Распределение Бернулли"
   ]
  },
  {
   "cell_type": "code",
   "execution_count": 627,
   "metadata": {},
   "outputs": [
    {
     "data": {
      "image/png": "[encoded data removed]",
      "text/plain": [
       "<Figure size 640x480 with 2 Axes>"
      ]
     },
     "metadata": {},
     "output_type": "display_data"
    }
   ],
   "source": [
    "p_bernoulli = 0.4\n",
    "def bernoullii(p, n):\n",
    "    return [1 if mmg.U[i] < p else 0 for i in range(n)]\n",
    "\n",
    "bernoulli_sample = bernoullii(p_bernoulli, n1)\n",
    "bernoulli_inb = bernoulli.rvs(p_bernoulli, size = n1)\n",
    "\n",
    "\n",
    "fig, axs = plt.subplots(2,1)\n",
    "axs[0].hist(bernoulli_sample, histtype = 'bar')\n",
    "axs[0].set_title(\"Bernoulli function\")\n",
    "axs[1].hist(bernoulli_inb)\n",
    "axs[1].set_title(\"Bernoulli inbuild\")\n",
    "fig.tight_layout()\n",
    "plt.show()"
   ]
  },
  {
   "cell_type": "markdown",
   "metadata": {},
   "source": [
    "Хи-квадарт для распределения Бернулли"
   ]
  },
  {
   "cell_type": "code",
   "execution_count": 628,
   "metadata": {},
   "outputs": [
    {
     "name": "stdout",
     "output_type": "stream",
     "text": [
      "Распределение Бернулли:\n",
      "Хи-квадрат для встроенного генератора: 2.8016666666666667,\n",
      "Хи-квадарат для реализованного генератора: 2.16\n",
      "Дельта: 3.841458820694124\n"
     ]
    }
   ],
   "source": [
    "def observed_bern(bern_sample):\n",
    "    freq_1 = sum(bern_sample)\n",
    "    freq_0 = len(bern_sample) - freq_1\n",
    "    return [freq_0, freq_1]\n",
    "def expected_bern(bern_sample, p):\n",
    "    freq_1 = len(bern_sample) * p\n",
    "    freq_0 = len(bern_sample) * (1-p)\n",
    "    return [freq_0, freq_1]\n",
    "\n",
    "freq_exp = expected_bern(bernoulli_inb, p_bernoulli)\n",
    "freq_obs = observed_bern(bernoulli_inb)\n",
    "chi_2 = chisquare(freq_obs, freq_exp)\n",
    "k_my = len(freq_exp)\n",
    "\n",
    "freq_exp_my = expected_bern(bernoulli_sample, p_bernoulli)\n",
    "freq_obs_my = observed_bern(bernoulli_sample)\n",
    "chi_2_my = chisquare(freq_obs_my, freq_exp_my)\n",
    "k_my = len(freq_exp_my)\n",
    "delta = chi2(k_my - 1).ppf(1 - eps)\n",
    "print(\"Распределение Бернулли:\")\n",
    "print(\"Хи-квадрат для встроенного генератора: {},\\n\\\n",
    "Хи-квадарат для реализованного генератора: {}\\n\\\n",
    "Дельта: {}\".format(chi_2, chi_2_my, delta))"
   ]
  },
  {
   "cell_type": "markdown",
   "metadata": {},
   "source": [
    "Дискретное равномерное распределение"
   ]
  },
  {
   "cell_type": "code",
   "execution_count": 629,
   "metadata": {},
   "outputs": [
    {
     "data": {
      "image/png": "[encoded data removed]",
      "text/plain": [
       "<Figure size 640x480 with 2 Axes>"
      ]
     },
     "metadata": {},
     "output_type": "display_data"
    }
   ],
   "source": [
    "def uniform_pmf(k, a, b):\n",
    "    n = b - a + 1\n",
    "    if a <= k <= b:\n",
    "        return 1/n\n",
    "    else: \n",
    "        return 0 \n",
    "\n",
    "def discrete_distribution(a, b, n = n1):\n",
    "    x = [math.floor((b - a + 1) * mmg.U[i]) + a for i in range(n)]\n",
    "    return x\n",
    "a, b = 0, 10\n",
    "\n",
    "# генерация дискретного равномерного распределения\n",
    "discrete_sample = discrete_distribution(a,b)\n",
    "\n",
    "# встроенная функция\n",
    "discrete_sample_inbuild = randint.rvs(low = a, high = b + 1, size=n1)\n",
    "\n",
    "bin = np.arange(0,12,0.5)\n",
    "fig, axs = plt.subplots(2,1)\n",
    "axs[0].hist(discrete_sample, bins = bin)\n",
    "axs[0].set_title(\"Discrete Uniform function\")\n",
    "axs[1].hist(discrete_sample_inbuild, bins =bin)\n",
    "axs[1].set_title(\"Discrete Uniform inbuild\")\n",
    "fig.tight_layout()\n",
    "plt.show()"
   ]
  },
  {
   "cell_type": "markdown",
   "metadata": {},
   "source": [
    "Хи-квадрат равномерного распределения"
   ]
  },
  {
   "cell_type": "code",
   "execution_count": 630,
   "metadata": {},
   "outputs": [
    {
     "name": "stdout",
     "output_type": "stream",
     "text": [
      "Дискретное равномерное распределение:\n",
      "Хи-квадрат для встроенного генератора: 3.3516000000000807,\n",
      "Хи-квадарат для реализованного генератора: 11.711600000000164\n",
      "Дельта: 16.918977604620448\n"
     ]
    }
   ],
   "source": [
    "last = a + b\n",
    "def expected_uni(a, b):\n",
    "    freq_exp = []\n",
    "    sum_prob = 0\n",
    "    for i in range(last):\n",
    "        prob = uniform_pmf(i, a, b)\n",
    "        sum_prob += prob\n",
    "        freq_exp.append(prob * n1)\n",
    "    freq_exp.append(n1 * (1 - sum_prob))\n",
    "    return freq_exp\n",
    "\n",
    "def observed_uni(sample):\n",
    "    f_obs = []\n",
    "    for i in range(last + 1):\n",
    "        f_obs.append(0)\n",
    "    sample_sorted = sorted(sample)\n",
    "    for elem in sample_sorted:\n",
    "        if elem < last:\n",
    "            f_obs[elem] += 1\n",
    "        else:\n",
    "            f_obs[last] += 1 \n",
    "    return f_obs\n",
    "\n",
    "freq_exp = expected_uni(a, b)\n",
    "freq_obs = observed_uni(discrete_sample_inbuild)\n",
    "chi_2 = chisquare(freq_obs, freq_exp)\n",
    "\n",
    "freq_exp_my = expected_uni(a, b)\n",
    "freq_obs_my = observed_uni(discrete_sample)\n",
    "chi_2_my = chisquare(freq_obs_my, freq_exp_my)\n",
    "k = len(freq_exp) - 1\n",
    "delta = chi2(k - 1).ppf(1 - eps)\n",
    "\n",
    "print(\"Дискретное равномерное распределение:\")\n",
    "print(\"Хи-квадрат для встроенного генератора: {},\\n\\\n",
    "Хи-квадарат для реализованного генератора: {}\\n\\\n",
    "Дельта: {}\".format(chi_2, chi_2_my, delta))"
   ]
  },
  {
   "cell_type": "markdown",
   "metadata": {},
   "source": [
    "Биномиальное распределение"
   ]
  },
  {
   "cell_type": "code",
   "execution_count": 631,
   "metadata": {},
   "outputs": [],
   "source": [
    "       \n",
    "def factorial(n):\n",
    "    x = 1\n",
    "    for i in range(1, n+1):\n",
    "         x *= i\n",
    "    return x\n",
    "\n",
    "def combination(n, k):\n",
    "    return factorial(n)/(factorial(k)*factorial(n-k))\n",
    "\n",
    "def binompmf(k,n,p):\n",
    "    return combination(n,k)*(p**k)*((1-p)**(n-k))\n",
    "\n",
    "def binomial(n, p):\n",
    "    bern = bernoullii(p, n*n1+n)\n",
    "    r = [sum(bern[i:(i+n)]) for i in range(0, n*n1, n)]\n",
    "    dist = [binompmf(k, n, p) for k in r]\n",
    "    return r, dist"
   ]
  },
  {
   "cell_type": "markdown",
   "metadata": {},
   "source": [
    "Генерация Биномиального распределения"
   ]
  },
  {
   "cell_type": "code",
   "execution_count": 648,
   "metadata": {},
   "outputs": [
    {
     "data": {
      "image/png": "[encoded data removed]",
      "text/plain": [
       "<Figure size 640x480 with 2 Axes>"
      ]
     },
     "metadata": {},
     "output_type": "display_data"
    }
   ],
   "source": [
    "n_binom=10\n",
    "p_binom = 0.5\n",
    "\n",
    "# генерация с помощью функции\n",
    "r, dist = binomial(n_binom, p_binom)\n",
    "\n",
    "# встроенная генерация\n",
    "dist_val = binom.rvs(n_binom, p_binom, size=n1)\n",
    "\n",
    "bin = np.arange(0,n_binom + 1,0.5)\n",
    "fig, ax = plt.subplots(2, 1)\n",
    "ax[0].hist(r, bins = bin)\n",
    "ax[0].set_title('Binomial function')\n",
    "ax[1].hist(dist_val, bins = bin)\n",
    "ax[1].set_title('Binomial inbuild') \n",
    "fig.tight_layout()\n",
    "plt.show()"
   ]
  },
  {
   "cell_type": "markdown",
   "metadata": {},
   "source": [
    "Хи-квадрат для Биномиального распределения"
   ]
  },
  {
   "cell_type": "code",
   "execution_count": 649,
   "metadata": {},
   "outputs": [
    {
     "name": "stdout",
     "output_type": "stream",
     "text": [
      "Биномиальное распределение:\n",
      "Хи-квадрат для встроенного генератора: 9.49751873015873,\n",
      "Хи-квадарат для реализованного генератора: 15.230862222222221\n",
      "Дельта: 16.918977604620448\n"
     ]
    }
   ],
   "source": [
    "def expected_binomial(m, p):\n",
    "    last = 2 * math.floor(m * p)\n",
    "    freq_exp = []\n",
    "    sum_prob = 0\n",
    "    for i in range(last):\n",
    "        prob = binompmf(i, m, p)\n",
    "        sum_prob += prob\n",
    "        freq_exp.append(prob * n1)\n",
    "    freq_exp.append(n1 * (1 - sum_prob))\n",
    "    return freq_exp\n",
    "\n",
    "def observed_binomial(sample, m, p):\n",
    "    last = 2 * math.floor(m * p)\n",
    "    f_obs = []\n",
    "    for i in range(last + 1):\n",
    "        f_obs.append(0)\n",
    "    sample_sorted = sorted(sample)\n",
    "    for elem in sample_sorted:\n",
    "        if elem < last:\n",
    "            f_obs[elem] += 1\n",
    "        else:\n",
    "            f_obs[last] += 1\n",
    "    return f_obs\n",
    "\n",
    "freq_exp = expected_binomial(n_binom, p_binom)\n",
    "freq_obs = observed_binomial(dist_val, n_binom, p_binom)\n",
    "chi_2 = chisquare(freq_obs, freq_exp)\n",
    "\n",
    "freq_exp_my = expected_binomial(n_binom, p_binom)\n",
    "freq_obs_my = observed_binomial(r, n_binom, p_binom)\n",
    "chi_2_my = chisquare(freq_obs_my, freq_exp_my)\n",
    "k = len(freq_exp) - 1\n",
    "delta = chi2(k - 1).ppf(1 - eps)\n",
    "\n",
    "print(\"Биномиальное распределение:\")\n",
    "print(\"Хи-квадрат для встроенного генератора: {},\\n\\\n",
    "Хи-квадарат для реализованного генератора: {}\\n\\\n",
    "Дельта: {}\".format(chi_2, chi_2_my, delta))"
   ]
  },
  {
   "cell_type": "markdown",
   "metadata": {},
   "source": [
    "Геометрическое распределение"
   ]
  },
  {
   "cell_type": "code",
   "execution_count": 650,
   "metadata": {},
   "outputs": [],
   "source": [
    "def geom_pmf(p, x):\n",
    "    return p * (1-p)**(x-1)\n",
    "def geom_rnd(p, n=n1):\n",
    "    q = 1 - p\n",
    "    t = [math.floor(math.log(mmg.U[i]) / math.log(q)) + 1  for i in range(n)]\n",
    "    return t"
   ]
  },
  {
   "cell_type": "markdown",
   "metadata": {},
   "source": [
    "Генерация геометрического распределения"
   ]
  },
  {
   "cell_type": "code",
   "execution_count": 651,
   "metadata": {},
   "outputs": [
    {
     "data": {
      "image/png": "[encoded data removed]",
      "text/plain": [
       "<Figure size 640x480 with 2 Axes>"
      ]
     },
     "metadata": {},
     "output_type": "display_data"
    }
   ],
   "source": [
    "p_geom = 0.2\n",
    "\n",
    "# генерация с помощью функции\n",
    "geom_sample = geom_rnd(p_geom)\n",
    "\n",
    "# встроенная генерация\n",
    "geom_inbuild = geom.rvs(p_geom, size = 10000)\n",
    "\n",
    "bin = np.arange(0,30,0.5)\n",
    "fig, ax = plt.subplots(2, 1)\n",
    "ax[0].hist(geom_sample, bins = bin)\n",
    "ax[0].set_title('Geometric function')\n",
    "ax[1].hist(geom_inbuild, bins = bin)\n",
    "ax[1].set_title('Geometric inbuild') \n",
    "fig.tight_layout()\n",
    "plt.show()"
   ]
  },
  {
   "cell_type": "markdown",
   "metadata": {},
   "source": [
    "Хи-квадрат для геометрического распределения"
   ]
  },
  {
   "cell_type": "code",
   "execution_count": 652,
   "metadata": {},
   "outputs": [
    {
     "name": "stdout",
     "output_type": "stream",
     "text": [
      "Геометрическое распределение:\n",
      "Хи-квадрат для встроенного генератора: 4.770147371292028,\n",
      "Хи-квадарат для реализованного генератора: 4.915468444824377\n",
      "Дельта: 15.507313055865453\n"
     ]
    }
   ],
   "source": [
    "last = math.floor(2 / p_geom)\n",
    "def expected_geom(p):\n",
    "    freq_exp = []\n",
    "    sum_prob = 0\n",
    "    for i in range(1, last):\n",
    "        prob = geom_pmf(p, i)\n",
    "        sum_prob += prob\n",
    "        freq_exp.append(prob * n1)\n",
    "    freq_exp.append(n1 * (1 - sum_prob))\n",
    "    return freq_exp\n",
    "\n",
    "def observed_geom(sample):\n",
    "    f_obs = [0 for i in range(1, last + 1)]\n",
    "    sample_sorted = sorted(sample)\n",
    "    for elem in sample_sorted:\n",
    "        if elem < last:\n",
    "            f_obs[elem - 1] += 1\n",
    "        else:\n",
    "            f_obs[last - 1] += 1\n",
    "    return f_obs\n",
    "\n",
    "freq_exp = expected_geom(p_geom)\n",
    "freq_obs = observed_geom(geom_inbuild)\n",
    "chi_2 = chisquare(freq_obs, freq_exp)\n",
    "\n",
    "freq_exp_my = expected_geom(p_geom)\n",
    "freq_obs_my = observed_geom(geom_sample)\n",
    "chi_2_my = chisquare(freq_obs_my, freq_exp_my)\n",
    "k = len(freq_exp) - 1\n",
    "delta = chi2(k - 1).ppf(1 - eps)\n",
    "\n",
    "print(\"Геометрическое распределение:\")\n",
    "print(\"Хи-квадрат для встроенного генератора: {},\\n\\\n",
    "Хи-квадарат для реализованного генератора: {}\\n\\\n",
    "Дельта: {}\".format(chi_2, chi_2_my, delta))"
   ]
  },
  {
   "cell_type": "markdown",
   "metadata": {},
   "source": [
    "Отрицательное биномиальное распределение"
   ]
  },
  {
   "cell_type": "code",
   "execution_count": 653,
   "metadata": {},
   "outputs": [],
   "source": [
    "def binom_negative_pmf(k, x, p):\n",
    "    return combination(k + x - 1, x)*(p**k)*((1-p)**(x))\n",
    "\n",
    "def binomial_negative(k, p):\n",
    "    geometr =[math.floor(math.log(mmg.U[i]) / math.log(1-p)) for i in range(k*n1)]\n",
    "    r = [sum(geometr[i:(i+k)]) for i in range(0, k * n1, k)]\n",
    "    dist = [binom_negative_pmf(x, k, p) for x in r]\n",
    "    return r, dist"
   ]
  },
  {
   "cell_type": "markdown",
   "metadata": {},
   "source": [
    "Генерация отрицательного биномиального распределения"
   ]
  },
  {
   "cell_type": "code",
   "execution_count": 654,
   "metadata": {},
   "outputs": [
    {
     "name": "stdout",
     "output_type": "stream",
     "text": [
      "10000\n"
     ]
    },
    {
     "data": {
      "image/png": "[encoded data removed]",
      "text/plain": [
       "<Figure size 640x480 with 2 Axes>"
      ]
     },
     "metadata": {},
     "output_type": "display_data"
    }
   ],
   "source": [
    "n_bern_neg = 4\n",
    "p_ber_neg = 0.5\n",
    "\n",
    "# генерация с помощью функции\n",
    "r_neg, dist_neg = binomial_negative(n_bern_neg, p_ber_neg)\n",
    "print(len(r_neg))\n",
    "# встроенная генерация\n",
    "dist_val_neg = nbinom.rvs(n_bern_neg, p_ber_neg, size = n1)\n",
    "\n",
    "bin = np.arange(0,20,0.5)\n",
    "fig, ax = plt.subplots(2, 1)\n",
    "ax[0].hist(r_neg, bins = bin)\n",
    "ax[0].set_title('Binomial negative function')\n",
    "ax[1].hist(dist_val_neg, bins =bin)\n",
    "ax[1].set_title('Binomial negative inbuild') \n",
    "fig.tight_layout()\n",
    "plt.show()\n"
   ]
  },
  {
   "cell_type": "markdown",
   "metadata": {},
   "source": [
    "Хи-квадрат для отрицательного биномиального распределения"
   ]
  },
  {
   "cell_type": "code",
   "execution_count": 655,
   "metadata": {},
   "outputs": [
    {
     "name": "stdout",
     "output_type": "stream",
     "text": [
      "Отрицательное биномиальное распределение:\n",
      "Хи-квадрат для встроенного генератора: 6466.812257945491,\n",
      "Хи-квадарат для реализованного генератора: 5982.187881880804\n",
      "Дельта: 14.067140449340167\n"
     ]
    }
   ],
   "source": [
    "def expected_binomneg(k, p):\n",
    "    last = 2 * math.floor(k * (1-p) / p)\n",
    "    freq_exp = []\n",
    "    sum_prob = 0\n",
    "    for i in range(last):\n",
    "        prob = binom_negative_pmf(i, k, p)\n",
    "        sum_prob += prob\n",
    "        freq_exp.append(prob * n1)\n",
    "    freq_exp.append(n1 * (1 - sum_prob))\n",
    "    return freq_exp\n",
    "\n",
    "def observed_binomneg(sample, k, p):\n",
    "    last = 2 * math.floor(k * (1 - p) / p)\n",
    "    f_obs = []\n",
    "    for i in range(last + 1):\n",
    "        f_obs.append(0)\n",
    "    sample_sorted = sorted(sample)\n",
    "    for elem in sample_sorted:\n",
    "        if elem < last:\n",
    "            f_obs[elem] += 1\n",
    "        else:\n",
    "            f_obs[last] += 1\n",
    "    return f_obs\n",
    "\n",
    "freq_exp = expected_binomneg(n_bern_neg, p_ber_neg)\n",
    "freq_obs = observed_binomneg(dist_val_neg, n_bern_neg, p_ber_neg)\n",
    "chi_2 = chisquare(freq_obs, freq_exp)\n",
    "\n",
    "freq_exp_my = expected_binomneg(n_bern_neg, p_ber_neg)\n",
    "freq_obs_my = observed_binomneg(r_neg, n_bern_neg, p_ber_neg)\n",
    "chi_2_my = chisquare(freq_obs_my, freq_exp_my)\n",
    "k = len(freq_exp) - 1\n",
    "delta = chi2(k - 1).ppf(1 - eps)\n",
    "\n",
    "print(\"Отрицательное биномиальное распределение:\")\n",
    "print(\"Хи-квадрат для встроенного генератора: {},\\n\\\n",
    "Хи-квадарат для реализованного генератора: {}\\n\\\n",
    "Дельта: {}\".format(chi_2, chi_2_my, delta))\n",
    "    "
   ]
  },
  {
   "cell_type": "markdown",
   "metadata": {},
   "source": [
    "Распределение Пуассона"
   ]
  },
  {
   "cell_type": "code",
   "execution_count": 656,
   "metadata": {},
   "outputs": [],
   "source": [
    "def poisson_pmf(l, x):\n",
    "    return math.e**(-1* l) * l**x / math.factorial(x)\n",
    "\n",
    "def poisson_my(l):\n",
    "    res = []\n",
    "    for i in range(n1):\n",
    "        n = 0\n",
    "        pp = poisson_pmf(l, 0)\n",
    "        u = mmg.U[i]\n",
    "        while u > pp:\n",
    "            n = n + 1\n",
    "            pp = pp + poisson_pmf(l, n)\n",
    "        res.append(n)\n",
    "    print(len(res))\n",
    "    return res"
   ]
  },
  {
   "cell_type": "markdown",
   "metadata": {},
   "source": [
    "Генерация распределения Пуассона"
   ]
  },
  {
   "cell_type": "code",
   "execution_count": 657,
   "metadata": {},
   "outputs": [
    {
     "name": "stdout",
     "output_type": "stream",
     "text": [
      "10000"
     ]
    },
    {
     "name": "stdout",
     "output_type": "stream",
     "text": [
      "\n"
     ]
    },
    {
     "data": {
      "image/png": "[encoded data removed]",
      "text/plain": [
       "<Figure size 640x480 with 2 Axes>"
      ]
     },
     "metadata": {},
     "output_type": "display_data"
    }
   ],
   "source": [
    "l = 10\n",
    "# генерация с помощью функции\n",
    "poiss_sample = poisson_my(l)\n",
    "\n",
    "# встроенная генерация\n",
    "poisson_inbuild = poisson.rvs(l, size=10000)\n",
    "\n",
    "bin = np.arange(0,25,0.5)\n",
    "fig, ax = plt.subplots(2, 1)\n",
    "ax[0].hist(poiss_sample, bins = bin)\n",
    "ax[0].set_title('Poisson function')\n",
    "ax[1].hist(poisson_inbuild, bins = bin)\n",
    "ax[1].set_title('Poisson inbuild') \n",
    "fig.tight_layout()\n",
    "plt.show()"
   ]
  },
  {
   "cell_type": "markdown",
   "metadata": {},
   "source": [
    "Хи-квадрат для распределения Пуассона"
   ]
  },
  {
   "cell_type": "code",
   "execution_count": 658,
   "metadata": {},
   "outputs": [
    {
     "name": "stdout",
     "output_type": "stream",
     "text": [
      "Распределение Пуассона:\n",
      "Хи-квадрат для встроенного генератора: 23.68595775522631,\n",
      "Хи-квадарат для реализованного генератора: 21.7575972533959\n",
      "Дельта: 31.410432844230918\n"
     ]
    }
   ],
   "source": [
    "last = 2 * l\n",
    "def expected_puasson(l):\n",
    "    freq_exp = []\n",
    "    sum_prob = 0\n",
    "    for i in range(last + 1):\n",
    "        prob = poisson_pmf(l, i)\n",
    "        sum_prob += prob\n",
    "        freq_exp.append(prob * n1)\n",
    "    freq_exp.append(n1 * (1 - sum_prob))\n",
    "    return freq_exp\n",
    "\n",
    "def observed_puasson(sample, l):\n",
    "    f_obs = []\n",
    "    for i in range(last + 2):\n",
    "        f_obs.append(0)\n",
    "    sample_sorted = sorted(sample)\n",
    "    for elem in sample_sorted:\n",
    "        if elem <= last:\n",
    "            f_obs[elem] += 1\n",
    "        else:\n",
    "            f_obs[last + 1] += 1\n",
    "    return f_obs\n",
    "\n",
    "freq_exp = expected_puasson(l)\n",
    "freq_obs = observed_puasson(poisson_inbuild, l)\n",
    "chi_2 = chisquare(freq_obs, freq_exp)\n",
    "\n",
    "freq_exp_my = expected_puasson(l)\n",
    "freq_obs_my = observed_puasson(poiss_sample, l)\n",
    "chi_2_my = chisquare(freq_obs_my, freq_exp_my)\n",
    "k = len(freq_exp) - 1\n",
    "delta = chi2(k - 1).ppf(1 - eps)\n",
    "\n",
    "print(\"Распределение Пуассона:\")\n",
    "print(\"Хи-квадрат для встроенного генератора: {},\\n\\\n",
    "Хи-квадарат для реализованного генератора: {}\\n\\\n",
    "Дельта: {}\".format(chi_2, chi_2_my, delta))"
   ]
  },
  {
   "cell_type": "markdown",
   "metadata": {},
   "source": [
    "Гипергеометрическое распределение"
   ]
  },
  {
   "cell_type": "code",
   "execution_count": 659,
   "metadata": {},
   "outputs": [],
   "source": [
    "def hgeom(k, M, n, N):\n",
    "    return combination(n, k) * combination(M -n, N - k) / combination(M, N)\n",
    "\n",
    "def hypergeometric(N, K, k, n):\n",
    "    x = []\n",
    "    p = K / N\n",
    "    for i in range(n):\n",
    "        sum = 0\n",
    "        iteration = 0\n",
    "        for j in range(1, k+1):\n",
    "            iteration +=1\n",
    "            if mmg.U[i * k + j - 1] <= p:\n",
    "                sum += 1\n",
    "                if sum == K:\n",
    "                    x.append(sum)\n",
    "                    break\n",
    "            p = (K- sum) / (N - j) \n",
    "        if iteration == k:\n",
    "            x.append(sum) \n",
    "    return x"
   ]
  },
  {
   "cell_type": "markdown",
   "metadata": {},
   "source": [
    "Генерация гипергеометрического распределения"
   ]
  },
  {
   "cell_type": "code",
   "execution_count": 660,
   "metadata": {},
   "outputs": [
    {
     "data": {
      "image/png": "[encoded data removed]",
      "text/plain": [
       "<Figure size 640x480 with 2 Axes>"
      ]
     },
     "metadata": {},
     "output_type": "display_data"
    }
   ],
   "source": [
    "N = 500\n",
    "K = 200\n",
    "k = 10\n",
    "n = 10000\n",
    "# генерация с помощью функции\n",
    "hypergeom_sample = hypergeometric(N, K, k, n)\n",
    "\n",
    "# встроенная генерация\n",
    "hypergeom_inbuild = hypergeom.rvs(N, K, k, size=10000)\n",
    "\n",
    "bin = np.arange(0,10,0.5)\n",
    "fig, ax = plt.subplots(2, 1)\n",
    "ax[0].hist(hypergeom_sample, bins = bin)\n",
    "ax[0].set_title('Hypergeometric function')\n",
    "ax[1].hist(hypergeom_inbuild, bins = bin)\n",
    "ax[1].set_title('Hypergeometric inbuild') \n",
    "fig.tight_layout()\n",
    "plt.show()\n"
   ]
  },
  {
   "cell_type": "markdown",
   "metadata": {},
   "source": [
    "Хи-квадрат для гипергеометрического распределения"
   ]
  },
  {
   "cell_type": "code",
   "execution_count": 661,
   "metadata": {},
   "outputs": [
    {
     "name": "stdout",
     "output_type": "stream",
     "text": [
      "Распределение Гипергеометрическое:\n",
      "Хи-квадрат для встроенного генератора: 3.0742858090036593,\n",
      "Хи-квадарат для реализованного генератора: 1.426345492814645\n",
      "Дельта: 5.991464547107979\n"
     ]
    }
   ],
   "source": [
    "last = math.floor(K * k / N)\n",
    "def expected_hypergeom(M, n, N):\n",
    "    freq_exp = []\n",
    "    sum_prob = 0\n",
    "    for i in range(1, last):\n",
    "        prob = hgeom(i, M, n, N)\n",
    "        sum_prob += prob\n",
    "        freq_exp.append(prob * n1)\n",
    "    freq_exp.append(n1 * (1 - sum_prob))\n",
    "    return freq_exp\n",
    "\n",
    "def observed_hypergeom(sample):\n",
    "    f_obs = [0 for i in range(1, last + 1)]\n",
    "    sample_sorted = sorted(sample)\n",
    "    for elem in sample_sorted:\n",
    "        if elem < last:\n",
    "            f_obs[elem - 1] += 1\n",
    "        else:\n",
    "            f_obs[last - 1] += 1\n",
    "    return f_obs\n",
    "freq_exp = expected_hypergeom(N, k, K)\n",
    "freq_obs = observed_hypergeom(hypergeom_inbuild)\n",
    "chi_2 = chisquare(freq_obs, freq_exp)\n",
    "\n",
    "freq_exp_my = expected_hypergeom(N, k, K)\n",
    "freq_obs_my = observed_hypergeom(hypergeom_sample)\n",
    "chi_2_my = chisquare(freq_obs_my, freq_exp_my)\n",
    "k = len(freq_exp) - 1\n",
    "delta = chi2(k - 1).ppf(1 - eps)\n",
    "\n",
    "print(\"Распределение Гипергеометрическое:\")\n",
    "print(\"Хи-квадрат для встроенного генератора: {},\\n\\\n",
    "Хи-квадарат для реализованного генератора: {}\\n\\\n",
    "Дельта: {}\".format(chi_2, chi_2_my, delta))"
   ]
  },
  {
   "cell_type": "markdown",
   "metadata": {},
   "source": [
    "Точечная оценка параметра распределения Бернулли"
   ]
  },
  {
   "cell_type": "code",
   "execution_count": 664,
   "metadata": {},
   "outputs": [
    {
     "name": "stdout",
     "output_type": "stream",
     "text": [
      "Точечная оценка параметра распределения Бернулли:  0.4072\n"
     ]
    }
   ],
   "source": [
    "P_ = sum(bernoulli_sample[:n1]) / n1\n",
    "print(\"Точечная оценка параметра распределения Бернулли: \", P_)"
   ]
  },
  {
   "cell_type": "markdown",
   "metadata": {},
   "source": [
    "Доверительный интервал для параметра распределения Бернулли"
   ]
  },
  {
   "cell_type": "code",
   "execution_count": 665,
   "metadata": {},
   "outputs": [
    {
     "name": "stdout",
     "output_type": "stream",
     "text": [
      "Доверительный интервал для распределения Бернулли:\n",
      " l: 0.3975704482116605,\n",
      " u: 0.4168295517883395.\n"
     ]
    }
   ],
   "source": [
    "param1 = math.sqrt(P_*(1-P_) / n1)\n",
    "param2 = norm.ppf((1+0.95) / 2)\n",
    "l = P_ - param1*param2\n",
    "u = P_ + param1*param2\n",
    "print(\"Доверительный интервал для распределения Бернулли:\\n\\\n",
    " l: {},\\n\\\n",
    " u: {}.\".format(l, u))"
   ]
  }
 ],
 "metadata": {
  "kernelspec": {
   "display_name": "Python 3",
   "language": "python",
   "name": "python3"
  },
  "language_info": {
   "codemirror_mode": {
    "name": "ipython",
    "version": 3
   },
   "file_extension": ".py",
   "mimetype": "text/x-python",
   "name": "python",
   "nbconvert_exporter": "python",
   "pygments_lexer": "ipython3",
   "version": "3.11.3"
  },
  "orig_nbformat": 4
 },
 "nbformat": 4,
 "nbformat_minor": 2
}
