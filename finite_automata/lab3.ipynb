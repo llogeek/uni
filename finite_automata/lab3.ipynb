{
 "cells": [
  {
   "cell_type": "code",
   "execution_count": 26,
   "metadata": {},
   "outputs": [],
   "source": [
    "inp = 1#input('Введите тип ввода информации: 1- программно, 2 - через ввод (разделитель данных - пробел)')\n",
    "if int(inp) == 1:\n",
    "    s = ['s0', 's1', 's2']#['a1', 'a2','a3']\n",
    "    x = [0, 1]#['z1','z2']                          \n",
    "    y = [0, 1, 2]#['w1', 'w2']                    \n",
    "    f = ['s1', 's1', 's2', 's2', 's0', 's0']#['a1', 'a3','a1', 'a2', 'a1','a2']     \n",
    "    psi = [0, 1, 2, 0, 1, 2]#['w2', 'w2', 'w2', 'w1', 'w1', 'w2']                \n",
    "    s0 = 's0'#'a1'                        \n",
    "elif int(inp) == 2:\n",
    "    s = input('Введите множество состояний автомата').split()\n",
    "    x = input('Введите множество входных символов').split()\n",
    "    y = input('Введите множество выходных символов').split()\n",
    "    f = input('Задайте функцию перехода (таблица по строкам слева направо)').split()\n",
    "    psi = input('Задайте функцию выхода (таблица по строкам слева направо)').split()\n",
    "    s0 = input('Начальное состояние')"
   ]
  },
  {
   "cell_type": "code",
   "execution_count": 27,
   "metadata": {},
   "outputs": [],
   "source": [
    "# проверка ввода данных\n",
    "def check_automata(s, x, y, f, psi, s0):\n",
    "    if len(s) == 0:\n",
    "        print('Множество сотояний не должно быть пустым')\n",
    "        return 0, [], []\n",
    "    if len(x) == 0:\n",
    "        print('Множество входных символов не должно быть пустым')\n",
    "        return 0, [], []\n",
    "    if len(y) == 0:\n",
    "        print('Множество выходных символов не должно быть пустым')\n",
    "        return 0, [], []\n",
    "    if s0 not in s:\n",
    "        print('s0 не входит во множество состояний автомата') \n",
    "        return 0, [], []\n",
    "    if len(set(s)) != len(s):\n",
    "        print('Множество состояний содержит повторяющиеся элементы')\n",
    "        return 0, [], []\n",
    "    if len(set(x)) != len(x):\n",
    "        print('Множество входных символов содержит повторяющиеся элементы')\n",
    "        return 0, [], []\n",
    "    if len(set(y)) != len(y):\n",
    "        print('Множество выходных символов содержит повторяющиеся элементы')\n",
    "        return 0, [], []\n",
    "    if set(s) != set(f + [s0]) or len(f) % len(x) != 0 or len(f) % len(s) != 0:\n",
    "        print('Функция перехода задана неверно')\n",
    "        return 0, [], []\n",
    "    if set(y) != set(psi) or len(psi) % len(x) != 0 or len(psi) % len(s) != 0:\n",
    "        print('Функция выхода задана неверно')\n",
    "        return 0, [], []\n",
    "    table_phi = []\n",
    "    table_psi = []\n",
    "    for i in range(0, len(f), len(x)):\n",
    "        table_phi.append(f[i:(i + len(x))])\n",
    "    for i in range(0, len(psi), len(x)):\n",
    "        table_psi.append(psi[i:(i + len(x))])\n",
    "    print('Таблица переходов:')\n",
    "    for i in table_phi:\n",
    "        print(i)\n",
    "    print('Таблица выходов:')\n",
    "    for i in table_psi:\n",
    "        print(i)\n",
    "    if len(table_psi[0]) != len(x):\n",
    "        print('Automata is wrong: заданное количество состояний\\\n",
    "           не соответсвует количеству состояний в таблице функции выхода')\n",
    "        return 0, [], []\n",
    "    if len(table_psi) != len(s):\n",
    "        print('Automata is wrong: заданное количество входных символов не соответсвует\\\n",
    "          количеству входных символов в таблице функции выхода')\n",
    "        return 0, [], []\n",
    "    if len(table_phi[0]) != len(x):\n",
    "        print('Automata is wrong: заданное количество состояний\\\n",
    "           не соответсвует количеству состояний в таблице функции перехода')\n",
    "        return 0, [], []\n",
    "    if len(table_phi) != len(s):\n",
    "        print('Automata is wrong: заданное количество входных символов не соответсвует\\\n",
    "          количеству входных символов в таблице функции перехода')\n",
    "        return 0, [], []\n",
    "    return 1, table_phi, table_psi\n"
   ]
  },
  {
   "cell_type": "code",
   "execution_count": 28,
   "metadata": {},
   "outputs": [],
   "source": [
    "def check_mealy(table_phi, table_psi):\n",
    "    count_columns = 0\n",
    "    count_rows = 0\n",
    "    for i in range(len(table_phi)):\n",
    "        if len(set(table_phi[i])) == 1:\n",
    "            count_rows += 1\n",
    "    temp = list(zip(*table_phi))\n",
    "    for i in range(len(temp)):\n",
    "        if len(set(temp[i])) == 1:\n",
    "            print(temp[i])\n",
    "            count_columns += 1\n",
    "    for i in range(len(table_psi)):\n",
    "        if len(set(table_psi[i])) == 1:\n",
    "            count_rows += 1\n",
    "    temp = list(zip(*table_psi))\n",
    "    for i in range(len(temp)):\n",
    "        if len(set(temp[i])) == 1:\n",
    "            count_columns += 1\n",
    "    if count_rows == 2 * len(table_psi):\n",
    "        return 0\n",
    "    if count_columns == 2 * len(temp):\n",
    "        return 0\n",
    "    return 1"
   ]
  },
  {
   "cell_type": "code",
   "execution_count": 29,
   "metadata": {},
   "outputs": [],
   "source": [
    "\n",
    "def check_aa(table_phi, table_psi):\n",
    "    for i in table_psi:\n",
    "        if len(set(i)) > 1:\n",
    "            return 0\n",
    "    return 1 "
   ]
  },
  {
   "cell_type": "code",
   "execution_count": 30,
   "metadata": {},
   "outputs": [
    {
     "name": "stdout",
     "output_type": "stream",
     "text": [
      "Таблица переходов:\n",
      "['s1', 's1']\n",
      "['s2', 's2']\n",
      "['s0', 's0']\n",
      "Таблица выходов:\n",
      "[0, 1]\n",
      "[2, 0]\n",
      "[1, 2]\n",
      "автомат мили\n"
     ]
    }
   ],
   "source": [
    "res = 0\n",
    "data = check_automata(s, x, y, f, psi, s0)\n",
    "if data[0] == 1:\n",
    "    if check_mealy(data[1], data[2]) == 1:\n",
    "        print('автомат мили')\n",
    "    if check_aa(data[1], data[2]) == 1:\n",
    "        print('автономный конечный автомат')\n",
    "else:\n",
    "    print('Формат автомата не поддерживается')"
   ]
  },
  {
   "cell_type": "code",
   "execution_count": null,
   "metadata": {},
   "outputs": [],
   "source": []
  }
 ],
 "metadata": {
  "kernelspec": {
   "display_name": "Python 3",
   "language": "python",
   "name": "python3"
  },
  "language_info": {
   "codemirror_mode": {
    "name": "ipython",
    "version": 3
   },
   "file_extension": ".py",
   "mimetype": "text/x-python",
   "name": "python",
   "nbconvert_exporter": "python",
   "pygments_lexer": "ipython3",
   "version": "3.11.3"
  }
 },
 "nbformat": 4,
 "nbformat_minor": 2
}
