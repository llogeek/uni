{
 "cells": [
  {
   "cell_type": "markdown",
   "metadata": {},
   "source": [
    "Конечный автомат, реализующий операцию +1"
   ]
  },
  {
   "cell_type": "code",
   "execution_count": 3,
   "metadata": {},
   "outputs": [],
   "source": [
    "def fa1(sequence, reverse = 1):\n",
    "    res = \"\"\n",
    "    state = 0\n",
    "    if len(sequence) < 1:\n",
    "        return \"\"\n",
    "    i = len(sequence) - 1\n",
    "    while sequence[i] == \"1\" and i >= 0:\n",
    "        res += \"0\"\n",
    "        i -= 1 \n",
    "    if i >= 0:\n",
    "        res += \"1\"\n",
    "        i -= 1\n",
    "    res += \"\".join([sequence[j] for j in range(i, -1, -1)])\n",
    "    if reverse == 0:\n",
    "        return res \n",
    "    return res[::-1]      \n",
    "\n",
    "for i in range(1000000):\n",
    "    param = \"0\" + str(bin(i)[2:])\n",
    "    res_func = fa1(param)\n",
    "    res = str(bin(i+1)[2:])\n",
    "    res = \"0\" * (len(res_func) - len(res)) + res\n",
    "    if res_func != res:\n",
    "        print(param)\n",
    "        print(res_func)\n",
    "        print(res)\n",
    "        print(\"failed algo on number \", i)\n"
   ]
  },
  {
   "cell_type": "markdown",
   "metadata": {},
   "source": [
    "Конечный автомат, реализующий операцию +3"
   ]
  },
  {
   "cell_type": "code",
   "execution_count": 5,
   "metadata": {},
   "outputs": [
    {
     "name": "stdout",
     "output_type": "stream",
     "text": [
      "1000\n"
     ]
    }
   ],
   "source": [
    "def fa2(sequence):\n",
    "    res = \"\"\n",
    "    state = 0\n",
    "    for i in range(len(sequence) - 1, -1, -1): \n",
    "        if state == 2:\n",
    "            res = res + sequence[i] + fa1(sequence[:i], reverse=0)\n",
    "            break\n",
    "        if state == 0:\n",
    "            if sequence[i] == \"0\":\n",
    "                res = res + \"1\" + fa1(sequence[:i], reverse=0)\n",
    "                break\n",
    "            else:\n",
    "                res = res + \"0\"\n",
    "                state = 2\n",
    "    return res[::-1]      \n",
    "\"\"\"for i in range(1000000):\n",
    "    param = \"00\" + str(bin(i)[2:])\n",
    "    res_func = fa2(param)\n",
    "    res = str(bin(i+3)[2:])\n",
    "    res = \"0\" * (len(res_func) - len(res)) + res\n",
    "    if res_func != res:\n",
    "        print(param)\n",
    "        print(res_func)\n",
    "        print(res)\n",
    "        print(\"failed algo on number \", i)\"\"\"\n",
    "print(fa2(\"0101\"))"
   ]
  }
 ],
 "metadata": {
  "kernelspec": {
   "display_name": "Python 3",
   "language": "python",
   "name": "python3"
  },
  "language_info": {
   "codemirror_mode": {
    "name": "ipython",
    "version": 3
   },
   "file_extension": ".py",
   "mimetype": "text/x-python",
   "name": "python",
   "nbconvert_exporter": "python",
   "pygments_lexer": "ipython3",
   "version": "3.11.3"
  }
 },
 "nbformat": 4,
 "nbformat_minor": 2
}
